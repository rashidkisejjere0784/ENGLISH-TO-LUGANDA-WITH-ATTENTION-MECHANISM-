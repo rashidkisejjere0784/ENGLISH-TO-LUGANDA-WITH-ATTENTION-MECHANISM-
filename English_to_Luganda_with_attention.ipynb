{
  "cells": [
    {
      "cell_type": "markdown",
      "metadata": {
        "id": "view-in-github",
        "colab_type": "text"
      },
      "source": [
        "<a href=\"https://colab.research.google.com/github/rashidkisejjere0784/ENGLISH-TO-LUGANDA-WITH-ATTENTION-MECHANISM-/blob/main/English_to_Luganda_with_attention.ipynb\" target=\"_parent\"><img src=\"https://colab.research.google.com/assets/colab-badge.svg\" alt=\"Open In Colab\"/></a>"
      ]
    },
    {
      "cell_type": "code",
      "execution_count": null,
      "metadata": {
        "colab": {
          "base_uri": "https://localhost:8080/"
        },
        "id": "OGx6ZqH2G-7H",
        "outputId": "1c54c5c9-e71d-4bf8-dbe3-812d2c9e6768"
      },
      "outputs": [
        {
          "output_type": "stream",
          "name": "stdout",
          "text": [
            "Looking in indexes: https://pypi.org/simple, https://us-python.pkg.dev/colab-wheels/public/simple/\n",
            "Collecting tensorflow-text>=2.10\n",
            "  Downloading tensorflow_text-2.11.0-cp38-cp38-manylinux_2_17_x86_64.manylinux2014_x86_64.whl (5.8 MB)\n",
            "\u001b[K     |████████████████████████████████| 5.8 MB 13.7 MB/s \n",
            "\u001b[?25hRequirement already satisfied: tensorflow-hub>=0.8.0 in /usr/local/lib/python3.8/dist-packages (from tensorflow-text>=2.10) (0.12.0)\n",
            "Collecting tensorflow<2.12,>=2.11.0\n",
            "  Downloading tensorflow-2.11.0-cp38-cp38-manylinux_2_17_x86_64.manylinux2014_x86_64.whl (588.3 MB)\n",
            "\u001b[K     |████████████████████████████████| 588.3 MB 20 kB/s \n",
            "\u001b[?25hRequirement already satisfied: termcolor>=1.1.0 in /usr/local/lib/python3.8/dist-packages (from tensorflow<2.12,>=2.11.0->tensorflow-text>=2.10) (2.1.1)\n",
            "Requirement already satisfied: six>=1.12.0 in /usr/local/lib/python3.8/dist-packages (from tensorflow<2.12,>=2.11.0->tensorflow-text>=2.10) (1.15.0)\n",
            "Requirement already satisfied: protobuf<3.20,>=3.9.2 in /usr/local/lib/python3.8/dist-packages (from tensorflow<2.12,>=2.11.0->tensorflow-text>=2.10) (3.19.6)\n",
            "Requirement already satisfied: google-pasta>=0.1.1 in /usr/local/lib/python3.8/dist-packages (from tensorflow<2.12,>=2.11.0->tensorflow-text>=2.10) (0.2.0)\n",
            "Collecting keras<2.12,>=2.11.0\n",
            "  Downloading keras-2.11.0-py2.py3-none-any.whl (1.7 MB)\n",
            "\u001b[K     |████████████████████████████████| 1.7 MB 59.9 MB/s \n",
            "\u001b[?25hRequirement already satisfied: gast<=0.4.0,>=0.2.1 in /usr/local/lib/python3.8/dist-packages (from tensorflow<2.12,>=2.11.0->tensorflow-text>=2.10) (0.4.0)\n",
            "Requirement already satisfied: wrapt>=1.11.0 in /usr/local/lib/python3.8/dist-packages (from tensorflow<2.12,>=2.11.0->tensorflow-text>=2.10) (1.14.1)\n",
            "Requirement already satisfied: opt-einsum>=2.3.2 in /usr/local/lib/python3.8/dist-packages (from tensorflow<2.12,>=2.11.0->tensorflow-text>=2.10) (3.3.0)\n",
            "Requirement already satisfied: h5py>=2.9.0 in /usr/local/lib/python3.8/dist-packages (from tensorflow<2.12,>=2.11.0->tensorflow-text>=2.10) (3.1.0)\n",
            "Requirement already satisfied: grpcio<2.0,>=1.24.3 in /usr/local/lib/python3.8/dist-packages (from tensorflow<2.12,>=2.11.0->tensorflow-text>=2.10) (1.51.1)\n",
            "Requirement already satisfied: libclang>=13.0.0 in /usr/local/lib/python3.8/dist-packages (from tensorflow<2.12,>=2.11.0->tensorflow-text>=2.10) (14.0.6)\n",
            "Requirement already satisfied: packaging in /usr/local/lib/python3.8/dist-packages (from tensorflow<2.12,>=2.11.0->tensorflow-text>=2.10) (21.3)\n",
            "Requirement already satisfied: numpy>=1.20 in /usr/local/lib/python3.8/dist-packages (from tensorflow<2.12,>=2.11.0->tensorflow-text>=2.10) (1.21.6)\n",
            "Collecting flatbuffers>=2.0\n",
            "  Downloading flatbuffers-22.12.6-py2.py3-none-any.whl (26 kB)\n",
            "Requirement already satisfied: astunparse>=1.6.0 in /usr/local/lib/python3.8/dist-packages (from tensorflow<2.12,>=2.11.0->tensorflow-text>=2.10) (1.6.3)\n",
            "Requirement already satisfied: tensorflow-io-gcs-filesystem>=0.23.1 in /usr/local/lib/python3.8/dist-packages (from tensorflow<2.12,>=2.11.0->tensorflow-text>=2.10) (0.28.0)\n",
            "Requirement already satisfied: setuptools in /usr/local/lib/python3.8/dist-packages (from tensorflow<2.12,>=2.11.0->tensorflow-text>=2.10) (57.4.0)\n",
            "Collecting tensorflow-estimator<2.12,>=2.11.0\n",
            "  Downloading tensorflow_estimator-2.11.0-py2.py3-none-any.whl (439 kB)\n",
            "\u001b[K     |████████████████████████████████| 439 kB 73.4 MB/s \n",
            "\u001b[?25hCollecting tensorboard<2.12,>=2.11\n",
            "  Downloading tensorboard-2.11.0-py3-none-any.whl (6.0 MB)\n",
            "\u001b[K     |████████████████████████████████| 6.0 MB 62.8 MB/s \n",
            "\u001b[?25hRequirement already satisfied: absl-py>=1.0.0 in /usr/local/lib/python3.8/dist-packages (from tensorflow<2.12,>=2.11.0->tensorflow-text>=2.10) (1.3.0)\n",
            "Requirement already satisfied: typing-extensions>=3.6.6 in /usr/local/lib/python3.8/dist-packages (from tensorflow<2.12,>=2.11.0->tensorflow-text>=2.10) (4.4.0)\n",
            "Requirement already satisfied: wheel<1.0,>=0.23.0 in /usr/local/lib/python3.8/dist-packages (from astunparse>=1.6.0->tensorflow<2.12,>=2.11.0->tensorflow-text>=2.10) (0.38.4)\n",
            "Requirement already satisfied: tensorboard-plugin-wit>=1.6.0 in /usr/local/lib/python3.8/dist-packages (from tensorboard<2.12,>=2.11->tensorflow<2.12,>=2.11.0->tensorflow-text>=2.10) (1.8.1)\n",
            "Requirement already satisfied: markdown>=2.6.8 in /usr/local/lib/python3.8/dist-packages (from tensorboard<2.12,>=2.11->tensorflow<2.12,>=2.11.0->tensorflow-text>=2.10) (3.4.1)\n",
            "Requirement already satisfied: werkzeug>=1.0.1 in /usr/local/lib/python3.8/dist-packages (from tensorboard<2.12,>=2.11->tensorflow<2.12,>=2.11.0->tensorflow-text>=2.10) (1.0.1)\n",
            "Requirement already satisfied: requests<3,>=2.21.0 in /usr/local/lib/python3.8/dist-packages (from tensorboard<2.12,>=2.11->tensorflow<2.12,>=2.11.0->tensorflow-text>=2.10) (2.23.0)\n",
            "Requirement already satisfied: google-auth-oauthlib<0.5,>=0.4.1 in /usr/local/lib/python3.8/dist-packages (from tensorboard<2.12,>=2.11->tensorflow<2.12,>=2.11.0->tensorflow-text>=2.10) (0.4.6)\n",
            "Requirement already satisfied: google-auth<3,>=1.6.3 in /usr/local/lib/python3.8/dist-packages (from tensorboard<2.12,>=2.11->tensorflow<2.12,>=2.11.0->tensorflow-text>=2.10) (2.15.0)\n",
            "Requirement already satisfied: tensorboard-data-server<0.7.0,>=0.6.0 in /usr/local/lib/python3.8/dist-packages (from tensorboard<2.12,>=2.11->tensorflow<2.12,>=2.11.0->tensorflow-text>=2.10) (0.6.1)\n",
            "Requirement already satisfied: pyasn1-modules>=0.2.1 in /usr/local/lib/python3.8/dist-packages (from google-auth<3,>=1.6.3->tensorboard<2.12,>=2.11->tensorflow<2.12,>=2.11.0->tensorflow-text>=2.10) (0.2.8)\n",
            "Requirement already satisfied: cachetools<6.0,>=2.0.0 in /usr/local/lib/python3.8/dist-packages (from google-auth<3,>=1.6.3->tensorboard<2.12,>=2.11->tensorflow<2.12,>=2.11.0->tensorflow-text>=2.10) (5.2.0)\n",
            "Requirement already satisfied: rsa<5,>=3.1.4 in /usr/local/lib/python3.8/dist-packages (from google-auth<3,>=1.6.3->tensorboard<2.12,>=2.11->tensorflow<2.12,>=2.11.0->tensorflow-text>=2.10) (4.9)\n",
            "Requirement already satisfied: requests-oauthlib>=0.7.0 in /usr/local/lib/python3.8/dist-packages (from google-auth-oauthlib<0.5,>=0.4.1->tensorboard<2.12,>=2.11->tensorflow<2.12,>=2.11.0->tensorflow-text>=2.10) (1.3.1)\n",
            "Requirement already satisfied: importlib-metadata>=4.4 in /usr/local/lib/python3.8/dist-packages (from markdown>=2.6.8->tensorboard<2.12,>=2.11->tensorflow<2.12,>=2.11.0->tensorflow-text>=2.10) (4.13.0)\n",
            "Requirement already satisfied: zipp>=0.5 in /usr/local/lib/python3.8/dist-packages (from importlib-metadata>=4.4->markdown>=2.6.8->tensorboard<2.12,>=2.11->tensorflow<2.12,>=2.11.0->tensorflow-text>=2.10) (3.11.0)\n",
            "Requirement already satisfied: pyasn1<0.5.0,>=0.4.6 in /usr/local/lib/python3.8/dist-packages (from pyasn1-modules>=0.2.1->google-auth<3,>=1.6.3->tensorboard<2.12,>=2.11->tensorflow<2.12,>=2.11.0->tensorflow-text>=2.10) (0.4.8)\n",
            "Requirement already satisfied: certifi>=2017.4.17 in /usr/local/lib/python3.8/dist-packages (from requests<3,>=2.21.0->tensorboard<2.12,>=2.11->tensorflow<2.12,>=2.11.0->tensorflow-text>=2.10) (2022.9.24)\n",
            "Requirement already satisfied: chardet<4,>=3.0.2 in /usr/local/lib/python3.8/dist-packages (from requests<3,>=2.21.0->tensorboard<2.12,>=2.11->tensorflow<2.12,>=2.11.0->tensorflow-text>=2.10) (3.0.4)\n",
            "Requirement already satisfied: idna<3,>=2.5 in /usr/local/lib/python3.8/dist-packages (from requests<3,>=2.21.0->tensorboard<2.12,>=2.11->tensorflow<2.12,>=2.11.0->tensorflow-text>=2.10) (2.10)\n",
            "Requirement already satisfied: urllib3!=1.25.0,!=1.25.1,<1.26,>=1.21.1 in /usr/local/lib/python3.8/dist-packages (from requests<3,>=2.21.0->tensorboard<2.12,>=2.11->tensorflow<2.12,>=2.11.0->tensorflow-text>=2.10) (1.24.3)\n",
            "Requirement already satisfied: oauthlib>=3.0.0 in /usr/local/lib/python3.8/dist-packages (from requests-oauthlib>=0.7.0->google-auth-oauthlib<0.5,>=0.4.1->tensorboard<2.12,>=2.11->tensorflow<2.12,>=2.11.0->tensorflow-text>=2.10) (3.2.2)\n",
            "Requirement already satisfied: pyparsing!=3.0.5,>=2.0.2 in /usr/local/lib/python3.8/dist-packages (from packaging->tensorflow<2.12,>=2.11.0->tensorflow-text>=2.10) (3.0.9)\n",
            "Installing collected packages: tensorflow-estimator, tensorboard, keras, flatbuffers, tensorflow, tensorflow-text\n",
            "  Attempting uninstall: tensorflow-estimator\n",
            "    Found existing installation: tensorflow-estimator 2.9.0\n",
            "    Uninstalling tensorflow-estimator-2.9.0:\n",
            "      Successfully uninstalled tensorflow-estimator-2.9.0\n",
            "  Attempting uninstall: tensorboard\n",
            "    Found existing installation: tensorboard 2.9.1\n",
            "    Uninstalling tensorboard-2.9.1:\n",
            "      Successfully uninstalled tensorboard-2.9.1\n",
            "  Attempting uninstall: keras\n",
            "    Found existing installation: keras 2.9.0\n",
            "    Uninstalling keras-2.9.0:\n",
            "      Successfully uninstalled keras-2.9.0\n",
            "  Attempting uninstall: flatbuffers\n",
            "    Found existing installation: flatbuffers 1.12\n",
            "    Uninstalling flatbuffers-1.12:\n",
            "      Successfully uninstalled flatbuffers-1.12\n",
            "  Attempting uninstall: tensorflow\n",
            "    Found existing installation: tensorflow 2.9.2\n",
            "    Uninstalling tensorflow-2.9.2:\n",
            "      Successfully uninstalled tensorflow-2.9.2\n",
            "Successfully installed flatbuffers-22.12.6 keras-2.11.0 tensorboard-2.11.0 tensorflow-2.11.0 tensorflow-estimator-2.11.0 tensorflow-text-2.11.0\n",
            "Looking in indexes: https://pypi.org/simple, https://us-python.pkg.dev/colab-wheels/public/simple/\n",
            "Collecting einops\n",
            "  Downloading einops-0.6.0-py3-none-any.whl (41 kB)\n",
            "\u001b[K     |████████████████████████████████| 41 kB 600 kB/s \n",
            "\u001b[?25hInstalling collected packages: einops\n",
            "Successfully installed einops-0.6.0\n"
          ]
        }
      ],
      "source": [
        "!pip install \"tensorflow-text>=2.10\"\n",
        "!pip install einops"
      ]
    },
    {
      "cell_type": "code",
      "execution_count": null,
      "metadata": {
        "id": "gZbQlF7MHOdt"
      },
      "outputs": [],
      "source": [
        "import numpy as np\n",
        "\n",
        "import typing\n",
        "from typing import Any, Tuple\n",
        "\n",
        "import einops\n",
        "import matplotlib.pyplot as plt\n",
        "import matplotlib.ticker as ticker\n",
        "\n",
        "import tensorflow as tf\n",
        "import tensorflow_text as tf_text"
      ]
    },
    {
      "cell_type": "code",
      "execution_count": null,
      "metadata": {
        "id": "mYnu8J1FHOjI"
      },
      "outputs": [],
      "source": [
        "#@title\n",
        "class ShapeChecker():\n",
        "  def __init__(self):\n",
        "    # Keep a cache of every axis-name seen\n",
        "    self.shapes = {}\n",
        "\n",
        "  def __call__(self, tensor, names, broadcast=False):\n",
        "    if not tf.executing_eagerly():\n",
        "      return\n",
        "\n",
        "    parsed = einops.parse_shape(tensor, names)\n",
        "\n",
        "    for name, new_dim in parsed.items():\n",
        "      old_dim = self.shapes.get(name, None)\n",
        "      \n",
        "      if (broadcast and new_dim == 1):\n",
        "        continue\n",
        "\n",
        "      if old_dim is None:\n",
        "        # If the axis name is new, add its length to the cache.\n",
        "        self.shapes[name] = new_dim\n",
        "        continue\n",
        "\n",
        "      if new_dim != old_dim:\n",
        "        raise ValueError(f\"Shape mismatch for dimension: '{name}'\\n\"\n",
        "                         f\"    found: {new_dim}\\n\"\n",
        "                         f\"    expected: {old_dim}\\n\")"
      ]
    },
    {
      "cell_type": "code",
      "execution_count": null,
      "metadata": {
        "id": "fnqYqlC8IASA"
      },
      "outputs": [],
      "source": [
        "import pandas as pd"
      ]
    },
    {
      "cell_type": "code",
      "execution_count": null,
      "metadata": {
        "id": "-Awx321ZHOme"
      },
      "outputs": [],
      "source": [
        "data = pd.read_csv(\"Luganda (1).csv\", encoding = \"ISO-8859-1\")\n",
        "data = data[[\"English\", \"Luganda\"]]\n",
        "data = data.dropna()\n",
        "\n",
        "context_raw = data[\"English\"]\n",
        "target_raw = data[\"Luganda\"]"
      ]
    },
    {
      "cell_type": "code",
      "execution_count": null,
      "metadata": {
        "colab": {
          "base_uri": "https://localhost:8080/",
          "height": 206
        },
        "id": "cKociotwHOqV",
        "outputId": "e20f65e6-461b-4a4a-9763-fb553c1d0004"
      },
      "outputs": [
        {
          "data": {
            "text/html": [
              "\n",
              "  <div id=\"df-22adca22-a1d8-4835-b53c-662b5fc322ad\">\n",
              "    <div class=\"colab-df-container\">\n",
              "      <div>\n",
              "<style scoped>\n",
              "    .dataframe tbody tr th:only-of-type {\n",
              "        vertical-align: middle;\n",
              "    }\n",
              "\n",
              "    .dataframe tbody tr th {\n",
              "        vertical-align: top;\n",
              "    }\n",
              "\n",
              "    .dataframe thead th {\n",
              "        text-align: right;\n",
              "    }\n",
              "</style>\n",
              "<table border=\"1\" class=\"dataframe\">\n",
              "  <thead>\n",
              "    <tr style=\"text-align: right;\">\n",
              "      <th></th>\n",
              "      <th>English</th>\n",
              "      <th>Luganda</th>\n",
              "    </tr>\n",
              "  </thead>\n",
              "  <tbody>\n",
              "    <tr>\n",
              "      <th>15017</th>\n",
              "      <td>Senior officials exaggerated the numbers to mi...</td>\n",
              "      <td>Abakungu ab'oku ntikko baayongeza omuwendo okw...</td>\n",
              "    </tr>\n",
              "    <tr>\n",
              "      <th>15018</th>\n",
              "      <td>There is a high risk in the spread of diseases...</td>\n",
              "      <td>Akatyabaga k'okusaasaana kw'endwadde mu nkambi...</td>\n",
              "    </tr>\n",
              "    <tr>\n",
              "      <th>15019</th>\n",
              "      <td>They were relocated to another settlement camp.</td>\n",
              "      <td>Baasengulwa ne batwalibwa mu nkambi endala.</td>\n",
              "    </tr>\n",
              "    <tr>\n",
              "      <th>15020</th>\n",
              "      <td>Some people who flee from South Sudan already ...</td>\n",
              "      <td>Abantu abamu abava mu South Sudan balina ab'en...</td>\n",
              "    </tr>\n",
              "    <tr>\n",
              "      <th>15021</th>\n",
              "      <td>The district officer has advised the people to...</td>\n",
              "      <td>Omukungu wa disitulikiti awadde abantu amagezi...</td>\n",
              "    </tr>\n",
              "  </tbody>\n",
              "</table>\n",
              "</div>\n",
              "      <button class=\"colab-df-convert\" onclick=\"convertToInteractive('df-22adca22-a1d8-4835-b53c-662b5fc322ad')\"\n",
              "              title=\"Convert this dataframe to an interactive table.\"\n",
              "              style=\"display:none;\">\n",
              "        \n",
              "  <svg xmlns=\"http://www.w3.org/2000/svg\" height=\"24px\"viewBox=\"0 0 24 24\"\n",
              "       width=\"24px\">\n",
              "    <path d=\"M0 0h24v24H0V0z\" fill=\"none\"/>\n",
              "    <path d=\"M18.56 5.44l.94 2.06.94-2.06 2.06-.94-2.06-.94-.94-2.06-.94 2.06-2.06.94zm-11 1L8.5 8.5l.94-2.06 2.06-.94-2.06-.94L8.5 2.5l-.94 2.06-2.06.94zm10 10l.94 2.06.94-2.06 2.06-.94-2.06-.94-.94-2.06-.94 2.06-2.06.94z\"/><path d=\"M17.41 7.96l-1.37-1.37c-.4-.4-.92-.59-1.43-.59-.52 0-1.04.2-1.43.59L10.3 9.45l-7.72 7.72c-.78.78-.78 2.05 0 2.83L4 21.41c.39.39.9.59 1.41.59.51 0 1.02-.2 1.41-.59l7.78-7.78 2.81-2.81c.8-.78.8-2.07 0-2.86zM5.41 20L4 18.59l7.72-7.72 1.47 1.35L5.41 20z\"/>\n",
              "  </svg>\n",
              "      </button>\n",
              "      \n",
              "  <style>\n",
              "    .colab-df-container {\n",
              "      display:flex;\n",
              "      flex-wrap:wrap;\n",
              "      gap: 12px;\n",
              "    }\n",
              "\n",
              "    .colab-df-convert {\n",
              "      background-color: #E8F0FE;\n",
              "      border: none;\n",
              "      border-radius: 50%;\n",
              "      cursor: pointer;\n",
              "      display: none;\n",
              "      fill: #1967D2;\n",
              "      height: 32px;\n",
              "      padding: 0 0 0 0;\n",
              "      width: 32px;\n",
              "    }\n",
              "\n",
              "    .colab-df-convert:hover {\n",
              "      background-color: #E2EBFA;\n",
              "      box-shadow: 0px 1px 2px rgba(60, 64, 67, 0.3), 0px 1px 3px 1px rgba(60, 64, 67, 0.15);\n",
              "      fill: #174EA6;\n",
              "    }\n",
              "\n",
              "    [theme=dark] .colab-df-convert {\n",
              "      background-color: #3B4455;\n",
              "      fill: #D2E3FC;\n",
              "    }\n",
              "\n",
              "    [theme=dark] .colab-df-convert:hover {\n",
              "      background-color: #434B5C;\n",
              "      box-shadow: 0px 1px 3px 1px rgba(0, 0, 0, 0.15);\n",
              "      filter: drop-shadow(0px 1px 2px rgba(0, 0, 0, 0.3));\n",
              "      fill: #FFFFFF;\n",
              "    }\n",
              "  </style>\n",
              "\n",
              "      <script>\n",
              "        const buttonEl =\n",
              "          document.querySelector('#df-22adca22-a1d8-4835-b53c-662b5fc322ad button.colab-df-convert');\n",
              "        buttonEl.style.display =\n",
              "          google.colab.kernel.accessAllowed ? 'block' : 'none';\n",
              "\n",
              "        async function convertToInteractive(key) {\n",
              "          const element = document.querySelector('#df-22adca22-a1d8-4835-b53c-662b5fc322ad');\n",
              "          const dataTable =\n",
              "            await google.colab.kernel.invokeFunction('convertToInteractive',\n",
              "                                                     [key], {});\n",
              "          if (!dataTable) return;\n",
              "\n",
              "          const docLinkHtml = 'Like what you see? Visit the ' +\n",
              "            '<a target=\"_blank\" href=https://colab.research.google.com/notebooks/data_table.ipynb>data table notebook</a>'\n",
              "            + ' to learn more about interactive tables.';\n",
              "          element.innerHTML = '';\n",
              "          dataTable['output_type'] = 'display_data';\n",
              "          await google.colab.output.renderOutput(dataTable, element);\n",
              "          const docLink = document.createElement('div');\n",
              "          docLink.innerHTML = docLinkHtml;\n",
              "          element.appendChild(docLink);\n",
              "        }\n",
              "      </script>\n",
              "    </div>\n",
              "  </div>\n",
              "  "
            ],
            "text/plain": [
              "                                                 English  \\\n",
              "15017  Senior officials exaggerated the numbers to mi...   \n",
              "15018  There is a high risk in the spread of diseases...   \n",
              "15019    They were relocated to another settlement camp.   \n",
              "15020  Some people who flee from South Sudan already ...   \n",
              "15021  The district officer has advised the people to...   \n",
              "\n",
              "                                                 Luganda  \n",
              "15017  Abakungu ab'oku ntikko baayongeza omuwendo okw...  \n",
              "15018  Akatyabaga k'okusaasaana kw'endwadde mu nkambi...  \n",
              "15019        Baasengulwa ne batwalibwa mu nkambi endala.  \n",
              "15020  Abantu abamu abava mu South Sudan balina ab'en...  \n",
              "15021  Omukungu wa disitulikiti awadde abantu amagezi...  "
            ]
          },
          "execution_count": 6,
          "metadata": {},
          "output_type": "execute_result"
        }
      ],
      "source": [
        "data.tail()"
      ]
    },
    {
      "cell_type": "code",
      "execution_count": null,
      "metadata": {
        "colab": {
          "base_uri": "https://localhost:8080/"
        },
        "id": "_0JWXMKTqDyG",
        "outputId": "bd32beae-e4be-43ea-bbcd-2385897fe80a"
      },
      "outputs": [
        {
          "name": "stdout",
          "output_type": "stream",
          "text": [
            "Looking in indexes: https://pypi.org/simple, https://us-python.pkg.dev/colab-wheels/public/simple/\n",
            "Requirement already satisfied: wordcloud in /usr/local/lib/python3.8/dist-packages (1.8.2.2)\n",
            "Requirement already satisfied: matplotlib in /usr/local/lib/python3.8/dist-packages (3.2.2)\n",
            "Requirement already satisfied: numpy>=1.6.1 in /usr/local/lib/python3.8/dist-packages (from wordcloud) (1.21.6)\n",
            "Requirement already satisfied: pillow in /usr/local/lib/python3.8/dist-packages (from wordcloud) (7.1.2)\n",
            "Requirement already satisfied: pyparsing!=2.0.4,!=2.1.2,!=2.1.6,>=2.0.1 in /usr/local/lib/python3.8/dist-packages (from matplotlib) (3.0.9)\n",
            "Requirement already satisfied: cycler>=0.10 in /usr/local/lib/python3.8/dist-packages (from matplotlib) (0.11.0)\n",
            "Requirement already satisfied: kiwisolver>=1.0.1 in /usr/local/lib/python3.8/dist-packages (from matplotlib) (1.4.4)\n",
            "Requirement already satisfied: python-dateutil>=2.1 in /usr/local/lib/python3.8/dist-packages (from matplotlib) (2.8.2)\n",
            "Requirement already satisfied: six>=1.5 in /usr/local/lib/python3.8/dist-packages (from python-dateutil>=2.1->matplotlib) (1.15.0)\n"
          ]
        }
      ],
      "source": [
        "!pip install wordcloud matplotlib"
      ]
    },
    {
      "cell_type": "code",
      "execution_count": null,
      "metadata": {
        "id": "dnQXKNe7qDt6"
      },
      "outputs": [],
      "source": [
        "import pandas as pd\n",
        "import matplotlib.pyplot as plt\n",
        "from wordcloud import WordCloud"
      ]
    },
    {
      "cell_type": "code",
      "execution_count": null,
      "metadata": {
        "id": "vttYfsOdqDqG"
      },
      "outputs": [],
      "source": [
        "text = \" \".join(cat.split()[1] for cat in context_raw)"
      ]
    },
    {
      "cell_type": "code",
      "execution_count": null,
      "metadata": {
        "id": "LRnhBqENqDmQ"
      },
      "outputs": [],
      "source": [
        "word_cloud = WordCloud(collocations = False, background_color = 'white').generate(text)"
      ]
    },
    {
      "cell_type": "code",
      "execution_count": null,
      "metadata": {
        "colab": {
          "base_uri": "https://localhost:8080/",
          "height": 198
        },
        "id": "5kCvafqsqDgs",
        "outputId": "a5978c52-efee-433b-cd95-ee46ccf0867a"
      },
      "outputs": [
        {
          "data": {
            "image/png": "[encoded data removed]",
            "text/plain": [
              "<Figure size 432x288 with 1 Axes>"
            ]
          },
          "metadata": {},
          "output_type": "display_data"
        }
      ],
      "source": [
        "plt.imshow(word_cloud, interpolation='bilinear')\n",
        "plt.axis(\"off\")\n",
        "plt.show()"
      ]
    },
    {
      "cell_type": "code",
      "execution_count": null,
      "metadata": {
        "id": "1Q_GmN_MrkdV"
      },
      "outputs": [],
      "source": [
        "text1 = \" \".join(cat for cat in target_raw)"
      ]
    },
    {
      "cell_type": "code",
      "execution_count": null,
      "metadata": {
        "id": "C9oQl9lYqDax"
      },
      "outputs": [],
      "source": [
        "word_cloud2 = WordCloud(collocations = False, background_color = 'white').generate(text1)"
      ]
    },
    {
      "cell_type": "code",
      "execution_count": null,
      "metadata": {
        "colab": {
          "base_uri": "https://localhost:8080/",
          "height": 198
        },
        "id": "6p9NvthBqDSd",
        "outputId": "f2ded252-6592-4951-c9f9-976756bde653"
      },
      "outputs": [
        {
          "data": {
            "image/png": "[encoded data removed]",
            "text/plain": [
              "<Figure size 432x288 with 1 Axes>"
            ]
          },
          "metadata": {},
          "output_type": "display_data"
        }
      ],
      "source": [
        "plt.imshow(word_cloud2, interpolation='bilinear')\n",
        "plt.axis(\"off\")\n",
        "plt.show()"
      ]
    },
    {
      "cell_type": "code",
      "execution_count": null,
      "metadata": {
        "id": "gT35kU6FqDFK"
      },
      "outputs": [],
      "source": []
    },
    {
      "cell_type": "markdown",
      "metadata": {
        "id": "15FxiOsavN4Z"
      },
      "source": [
        "Tokenizing the text for visualization"
      ]
    },
    {
      "cell_type": "code",
      "execution_count": null,
      "metadata": {
        "id": "3Io-q1QyHOsw"
      },
      "outputs": [],
      "source": [
        "BUFFER_SIZE = len(context_raw)\n",
        "BATCH_SIZE = 64\n",
        "\n",
        "is_train = np.random.uniform(size=(len(target_raw),)) < 0.8\n",
        "\n",
        "train_raw = (\n",
        "    tf.data.Dataset\n",
        "    .from_tensor_slices((context_raw[is_train], target_raw[is_train]))\n",
        "    .shuffle(BUFFER_SIZE)\n",
        "    .batch(BATCH_SIZE))\n",
        "val_raw = (\n",
        "    tf.data.Dataset\n",
        "    .from_tensor_slices((context_raw[~is_train], target_raw[~is_train]))\n",
        "    .shuffle(BUFFER_SIZE)\n",
        "    .batch(BATCH_SIZE))"
      ]
    },
    {
      "cell_type": "code",
      "execution_count": null,
      "metadata": {
        "colab": {
          "base_uri": "https://localhost:8080/"
        },
        "id": "SiL_OQyxHOvi",
        "outputId": "bd1570b3-9f4c-4a76-9351-f7afee1fc804"
      },
      "outputs": [
        {
          "output_type": "stream",
          "name": "stdout",
          "text": [
            "tf.Tensor(\n",
            "[b'People still go to crowded places.'\n",
            " b'Youth are advised not to give up on their goals.'\n",
            " b'People lack income for electric transmission.'\n",
            " b'Uganda has several refugee camps in the Northern region.'\n",
            " b'Wishing someone a good holiday just shows you care.'], shape=(5,), dtype=string)\n",
            "\n",
            "tf.Tensor(\n",
            "[b'Abantu na kati bakyagenda mu bifo ebirimu abantu abangi.'\n",
            " b'Abavubuka bakubiriziddwa obutava ku biruubirirwa byabwe.'\n",
            " b'Abantu tebalina ssente za kusika masannyalaze.'\n",
            " b\"Uganda erina enkambi z'abanoonyiboobubudamu ez'enjawulo mu bukkikakkono.\"\n",
            " b'Okwagaliza omuntu oluwummula olulungi kiraga nti ofaayo.'], shape=(5,), dtype=string)\n"
          ]
        }
      ],
      "source": [
        "for example_context_strings, example_target_strings in train_raw.take(1):\n",
        "  print(example_context_strings[:5])\n",
        "  print()\n",
        "  print(example_target_strings[:5])\n",
        "  break"
      ]
    },
    {
      "cell_type": "code",
      "execution_count": null,
      "metadata": {
        "colab": {
          "base_uri": "https://localhost:8080/"
        },
        "id": "ukvF4758HOxV",
        "outputId": "aae696c5-ace6-4aa6-a413-44871cc56585"
      },
      "outputs": [
        {
          "output_type": "stream",
          "name": "stdout",
          "text": [
            "b'Uganda balina emikolo'\n",
            "b'Uganda balina emikolo'\n"
          ]
        }
      ],
      "source": [
        "example_text = tf.constant('Uganda balina emikolo')\n",
        "\n",
        "print(example_text.numpy())\n",
        "print(tf_text.normalize_utf8(example_text, 'NFKD').numpy())"
      ]
    },
    {
      "cell_type": "code",
      "execution_count": null,
      "metadata": {
        "id": "4it318clIT_7"
      },
      "outputs": [],
      "source": [
        "def tf_lower_and_split_punct(text):\n",
        "  # Split accented characters.\n",
        "  text = tf_text.normalize_utf8(text, 'NFKD')\n",
        "  text = tf.strings.lower(text)\n",
        "  # Keep space, a to z, and select punctuation.\n",
        "  text = tf.strings.regex_replace(text, '[^ a-z.?!,¿]', '')\n",
        "  # Add spaces around punctuation.\n",
        "  text = tf.strings.regex_replace(text, '[.?!,¿]', r' \\0 ')\n",
        "  # Strip whitespace.\n",
        "  text = tf.strings.strip(text)\n",
        "\n",
        "  text = tf.strings.join(['[START]', text, '[END]'], separator=' ')\n",
        "  return text"
      ]
    },
    {
      "cell_type": "markdown",
      "metadata": {
        "id": "bQvcw1xTW9m7"
      },
      "source": [
        "Converting a given text into numerical and reconvert itback into text"
      ]
    },
    {
      "cell_type": "code",
      "execution_count": null,
      "metadata": {
        "id": "RmQfW0snW8VH"
      },
      "outputs": [],
      "source": []
    },
    {
      "cell_type": "code",
      "execution_count": null,
      "metadata": {
        "colab": {
          "base_uri": "https://localhost:8080/"
        },
        "id": "GqLhsIWCIT8O",
        "outputId": "26480d23-890a-4613-da89-a37fba5ffbbe"
      },
      "outputs": [
        {
          "output_type": "stream",
          "name": "stdout",
          "text": [
            "Uganda balina emikolo\n",
            "[START] uganda balina emikolo [END]\n"
          ]
        }
      ],
      "source": [
        "print(example_text.numpy().decode())\n",
        "print(tf_lower_and_split_punct(example_text).numpy().decode())"
      ]
    },
    {
      "cell_type": "markdown",
      "metadata": {
        "id": "IQG7PPy_XTgh"
      },
      "source": [
        "Text Vectorization"
      ]
    },
    {
      "cell_type": "code",
      "execution_count": null,
      "metadata": {
        "id": "CTf4sDtrXSrz"
      },
      "outputs": [],
      "source": []
    },
    {
      "cell_type": "code",
      "execution_count": null,
      "metadata": {
        "id": "XeKyWW3fIT4J"
      },
      "outputs": [],
      "source": [
        "max_vocab_size = 5000\n",
        "\n",
        "context_text_processor = tf.keras.layers.TextVectorization(\n",
        "    standardize=tf_lower_and_split_punct,\n",
        "    max_tokens=max_vocab_size,\n",
        "    ragged=True)"
      ]
    },
    {
      "cell_type": "code",
      "execution_count": null,
      "metadata": {
        "colab": {
          "base_uri": "https://localhost:8080/"
        },
        "id": "pHpEzSmiIam4",
        "outputId": "166f982c-38e8-4728-eebc-dd4fc95dc6e4"
      },
      "outputs": [
        {
          "output_type": "stream",
          "name": "stderr",
          "text": [
            "WARNING:tensorflow:From /usr/local/lib/python3.8/dist-packages/tensorflow/python/autograph/pyct/static_analysis/liveness.py:83: Analyzer.lamba_check (from tensorflow.python.autograph.pyct.static_analysis.liveness) is deprecated and will be removed after 2023-09-23.\n",
            "Instructions for updating:\n",
            "Lambda fuctions will be no more assumed to be used in the statement where they are used, or at least in the same block. https://github.com/tensorflow/tensorflow/issues/56089\n"
          ]
        },
        {
          "output_type": "execute_result",
          "data": {
            "text/plain": [
              "['', '[UNK]', '[START]', '[END]', '.', 'the', 'to', 'in', 'of', 'a']"
            ]
          },
          "metadata": {},
          "execution_count": 14
        }
      ],
      "source": [
        "context_text_processor.adapt(train_raw.map(lambda context, target: context))\n",
        "\n",
        "# Here are the first 10 words from the vocabulary:\n",
        "context_text_processor.get_vocabulary()[:10]"
      ]
    },
    {
      "cell_type": "code",
      "execution_count": null,
      "metadata": {
        "colab": {
          "base_uri": "https://localhost:8080/"
        },
        "id": "sSK3Q_KjIai7",
        "outputId": "36ef683c-735d-4634-ecf4-4b9ac4c46883"
      },
      "outputs": [
        {
          "output_type": "execute_result",
          "data": {
            "text/plain": [
              "['', '[UNK]', '[START]', '[END]', '.', 'mu', 'ku', 'abantu', '?', 'gavumenti']"
            ]
          },
          "metadata": {},
          "execution_count": 15
        }
      ],
      "source": [
        "target_text_processor = tf.keras.layers.TextVectorization(\n",
        "    standardize=tf_lower_and_split_punct,\n",
        "    max_tokens=max_vocab_size,\n",
        "    ragged=True)\n",
        "\n",
        "target_text_processor.adapt(train_raw.map(lambda context, target: target))\n",
        "target_text_processor.get_vocabulary()[:10]"
      ]
    },
    {
      "cell_type": "code",
      "execution_count": null,
      "metadata": {
        "colab": {
          "base_uri": "https://localhost:8080/"
        },
        "id": "M6GPsFNfIafO",
        "outputId": "2a57c75c-893c-425c-933e-03cfd332cb0d"
      },
      "outputs": [
        {
          "output_type": "execute_result",
          "data": {
            "text/plain": [
              "<tf.RaggedTensor [[2, 12, 220, 238, 6, 4350, 500, 4, 3],\n",
              " [2, 104, 10, 125, 29, 6, 312, 85, 23, 19, 1271, 4, 3],\n",
              " [2, 12, 134, 215, 13, 1828, 2905, 4, 3]]>"
            ]
          },
          "metadata": {},
          "execution_count": 16
        }
      ],
      "source": [
        "example_tokens = context_text_processor(example_context_strings)\n",
        "example_tokens[:3, :]"
      ]
    },
    {
      "cell_type": "code",
      "execution_count": null,
      "metadata": {
        "colab": {
          "base_uri": "https://localhost:8080/",
          "height": 35
        },
        "id": "HoomOa6lIacD",
        "outputId": "53225293-b4e4-480e-b455-03e06abbf8fe"
      },
      "outputs": [
        {
          "output_type": "execute_result",
          "data": {
            "text/plain": [
              "'[START] people still go to crowded places . [END]'"
            ],
            "application/vnd.google.colaboratory.intrinsic+json": {
              "type": "string"
            }
          },
          "metadata": {},
          "execution_count": 17
        }
      ],
      "source": [
        "context_vocab = np.array(context_text_processor.get_vocabulary())\n",
        "tokens = context_vocab[example_tokens[0].numpy()]\n",
        "' '.join(tokens)"
      ]
    },
    {
      "cell_type": "code",
      "execution_count": null,
      "metadata": {
        "colab": {
          "base_uri": "https://localhost:8080/",
          "height": 298
        },
        "id": "eAyn0sjNIT0W",
        "outputId": "aa026f1c-91e8-408a-ee8d-a4607a3e3304"
      },
      "outputs": [
        {
          "output_type": "execute_result",
          "data": {
            "text/plain": [
              "Text(0.5, 1.0, 'Mask')"
            ]
          },
          "metadata": {},
          "execution_count": 18
        },
        {
          "output_type": "display_data",
          "data": {
            "text/plain": [
              "<Figure size 432x288 with 2 Axes>"
            ],
            "image/png": "[encoded data removed]"
          },
          "metadata": {
            "needs_background": "light"
          }
        }
      ],
      "source": [
        "plt.subplot(1, 2, 1)\n",
        "plt.pcolormesh(example_tokens.to_tensor())\n",
        "plt.title('Token IDs')\n",
        "\n",
        "plt.subplot(1, 2, 2)\n",
        "plt.pcolormesh(example_tokens.to_tensor() != 0)\n",
        "plt.title('Mask')"
      ]
    },
    {
      "cell_type": "markdown",
      "metadata": {
        "id": "VbXXXwLcYVDl"
      },
      "source": [
        "Distribution of the sequence length"
      ]
    },
    {
      "cell_type": "code",
      "execution_count": null,
      "metadata": {
        "id": "1GY4hZ2RYdVN"
      },
      "outputs": [],
      "source": [
        "import seaborn as sns"
      ]
    },
    {
      "cell_type": "code",
      "execution_count": null,
      "metadata": {
        "colab": {
          "background_save": true,
          "base_uri": "https://localhost:8080/",
          "height": 588
        },
        "id": "gqe_SNp7YUnK",
        "outputId": "6880608d-4c54-4bca-fd9c-c2e0db552378"
      },
      "outputs": [
        {
          "name": "stderr",
          "output_type": "stream",
          "text": [
            "/usr/local/lib/python3.8/dist-packages/seaborn/distributions.py:2619: FutureWarning: `distplot` is a deprecated function and will be removed in a future version. Please adapt your code to use either `displot` (a figure-level function with similar flexibility) or `histplot` (an axes-level function for histograms).\n",
            "  warnings.warn(msg, FutureWarning)\n",
            "/usr/local/lib/python3.8/dist-packages/seaborn/distributions.py:2619: FutureWarning: `distplot` is a deprecated function and will be removed in a future version. Please adapt your code to use either `displot` (a figure-level function with similar flexibility) or `histplot` (an axes-level function for histograms).\n",
            "  warnings.warn(msg, FutureWarning)\n"
          ]
        },
        {
          "data": {
            "image/png": "[encoded data removed]",
            "text/plain": [
              "<Figure size 576x576 with 1 Axes>"
            ]
          },
          "metadata": {},
          "output_type": "display_data"
        }
      ],
      "source": [
        "plt.figure(figsize = (8,8))\n",
        "sns.distplot([len(x) for x in context_raw], label='English')\n",
        "sns.distplot([len(x) for x in target_raw], label='Luganda')\n",
        "plt.title('Distribution of Sentences Length')\n",
        "plt.legend()\n",
        "plt.show()"
      ]
    },
    {
      "cell_type": "markdown",
      "metadata": {
        "id": "bKgmF3RtaKxB"
      },
      "source": [
        "Word Count Visualization"
      ]
    },
    {
      "cell_type": "code",
      "execution_count": null,
      "metadata": {
        "colab": {
          "base_uri": "https://localhost:8080/",
          "height": 282
        },
        "id": "Ryjk77lAaIX9",
        "outputId": "76eb5fbe-3699-4950-c33d-545b0e1d8dce"
      },
      "outputs": [
        {
          "data": {
            "text/plain": [
              "<matplotlib.axes._subplots.AxesSubplot at 0x7f59df6429d0>"
            ]
          },
          "execution_count": 28,
          "metadata": {},
          "output_type": "execute_result"
        },
        {
          "data": {
            "image/png": "[encoded data removed]",
            "text/plain": [
              "<Figure size 432x288 with 1 Axes>"
            ]
          },
          "metadata": {},
          "output_type": "display_data"
        }
      ],
      "source": [
        "context_raw.apply(lambda x: len(str(x).split())).hist()"
      ]
    },
    {
      "cell_type": "code",
      "execution_count": null,
      "metadata": {
        "colab": {
          "base_uri": "https://localhost:8080/",
          "height": 282
        },
        "id": "HGh-wfAYX6UI",
        "outputId": "5a7efd91-c91e-4b44-c572-d68562e05825"
      },
      "outputs": [
        {
          "data": {
            "text/plain": [
              "<matplotlib.axes._subplots.AxesSubplot at 0x7f59df5671f0>"
            ]
          },
          "execution_count": 29,
          "metadata": {},
          "output_type": "execute_result"
        },
        {
          "data": {
            "image/png": "[encoded data removed]",
            "text/plain": [
              "<Figure size 432x288 with 1 Axes>"
            ]
          },
          "metadata": {},
          "output_type": "display_data"
        }
      ],
      "source": [
        "target_raw.apply(lambda x: len(str(x).split())).hist()"
      ]
    },
    {
      "cell_type": "markdown",
      "metadata": {
        "id": "xPoXJ6ZcbWOJ"
      },
      "source": [
        "Unique Word Count in the dataset"
      ]
    },
    {
      "cell_type": "code",
      "execution_count": null,
      "metadata": {
        "colab": {
          "base_uri": "https://localhost:8080/",
          "height": 282
        },
        "id": "RcCGSP2JbVnp",
        "outputId": "02fedc4c-fe46-4c6a-bcc4-7675c90e453b"
      },
      "outputs": [
        {
          "data": {
            "text/plain": [
              "<matplotlib.axes._subplots.AxesSubplot at 0x7f59df5096d0>"
            ]
          },
          "execution_count": 30,
          "metadata": {},
          "output_type": "execute_result"
        },
        {
          "data": {
            "image/png": "[encoded data removed]",
            "text/plain": [
              "<Figure size 432x288 with 1 Axes>"
            ]
          },
          "metadata": {},
          "output_type": "display_data"
        }
      ],
      "source": [
        "target_raw.apply(lambda x: len(set(str(x).split()))).hist()"
      ]
    },
    {
      "cell_type": "code",
      "execution_count": null,
      "metadata": {
        "colab": {
          "base_uri": "https://localhost:8080/",
          "height": 282
        },
        "id": "Bal9BufgcEYM",
        "outputId": "c493390f-1fe6-48d3-989d-28ee495ab715"
      },
      "outputs": [
        {
          "data": {
            "text/plain": [
              "<matplotlib.axes._subplots.AxesSubplot at 0x7f59df47b460>"
            ]
          },
          "execution_count": 31,
          "metadata": {},
          "output_type": "execute_result"
        },
        {
          "data": {
            "image/png": "[encoded data removed]",
            "text/plain": [
              "<Figure size 432x288 with 1 Axes>"
            ]
          },
          "metadata": {},
          "output_type": "display_data"
        }
      ],
      "source": [
        "context_raw.apply(lambda x: len(set(str(x).split()))).hist()"
      ]
    },
    {
      "cell_type": "code",
      "execution_count": null,
      "metadata": {
        "id": "x185FNuEgauv"
      },
      "outputs": [],
      "source": []
    },
    {
      "cell_type": "markdown",
      "metadata": {
        "id": "vV9i47hjgegu"
      },
      "source": [
        "Create the Vectorized dataset"
      ]
    },
    {
      "cell_type": "code",
      "execution_count": null,
      "metadata": {
        "id": "16TrRo6kITwi"
      },
      "outputs": [],
      "source": [
        "def process_text(context, target):\n",
        "  context = context_text_processor(context).to_tensor()\n",
        "  target = target_text_processor(target)\n",
        "  targ_in = target[:,:-1].to_tensor()\n",
        "  targ_out = target[:,1:].to_tensor()\n",
        "  return (context, targ_in), targ_out\n",
        "\n",
        "\n",
        "train_ds = train_raw.map(process_text, tf.data.AUTOTUNE)\n",
        "val_ds = val_raw.map(process_text, tf.data.AUTOTUNE)"
      ]
    },
    {
      "cell_type": "code",
      "execution_count": null,
      "metadata": {
        "colab": {
          "base_uri": "https://localhost:8080/"
        },
        "id": "L3vKpbrvJOUI",
        "outputId": "b81f6069-ba0b-4db9-d505-c74602f6ddc6"
      },
      "outputs": [
        {
          "output_type": "stream",
          "name": "stdout",
          "text": [
            "[   2  392   23 3687   16 1023  545   58   17   50]\n",
            "\n",
            "[   2  350    1 1138    6 2675    1   18    6  948]\n",
            "[ 350    1 1138    6 2675    1   18    6  948    1]\n"
          ]
        }
      ],
      "source": [
        "for (ex_context_tok, ex_tar_in), ex_tar_out in train_ds.take(1):\n",
        "  print(ex_context_tok[0, :10].numpy()) \n",
        "  print()\n",
        "  print(ex_tar_in[0, :10].numpy()) \n",
        "  print(ex_tar_out[0, :10].numpy()) "
      ]
    },
    {
      "cell_type": "code",
      "execution_count": null,
      "metadata": {
        "id": "5LkrvYZZhiKS"
      },
      "outputs": [],
      "source": [
        "english_tokens = ex_tar_in.numpy()"
      ]
    },
    {
      "cell_type": "code",
      "execution_count": null,
      "metadata": {
        "colab": {
          "base_uri": "https://localhost:8080/"
        },
        "id": "bYU8LVlkhnfb",
        "outputId": "00e072aa-69c1-4e1f-a38f-810a8e77a38f"
      },
      "outputs": [
        {
          "output_type": "execute_result",
          "data": {
            "text/plain": [
              "array([[   2,  350,    1, 1138,    6, 2675,    1,   18,    6,  948,    1,\n",
              "           4,    0,    0,    0],\n",
              "       [   2,   61,   78, 4430,    5, 2684,   23,   52,    4,    0,    0,\n",
              "           0,    0,    0,    0],\n",
              "       [   2,  209, 2857,   13,    5,  134,    8,    0,    0,    0,    0,\n",
              "           0,    0,    0,    0],\n",
              "       [   2, 1299, 3901,    1,  178, 1645,  562,    5,   19,    4,    0,\n",
              "           0,    0,    0,    0],\n",
              "       [   2,  268,  263, 1410,  166,    4,    0,    0,    0,    0,    0,\n",
              "           0,    0,    0,    0],\n",
              "       [   2,  524,    1,    1,    4,    0,    0,    0,    0,    0,    0,\n",
              "           0,    0,    0,    0],\n",
              "       [   2,  103, 4145,  588,  651,  100, 2329,    1,    4,    4,    0,\n",
              "           0,    0,    0,    0],\n",
              "       [   2,   72,  802,   11,    1,   62,    1,    4,    0,    0,    0,\n",
              "           0,    0,    0,    0],\n",
              "       [   2,    7,    1, 2543, 1611, 1513,    0,    0,    0,    0,    0,\n",
              "           0,    0,    0,    0],\n",
              "       [   2,    1,  152,    1, 1492,    6,    1,    4,    0,    0,    0,\n",
              "           0,    0,    0,    0],\n",
              "       [   2,   15,   66,    1,   45,   22,    5,    9,    4,    0,    0,\n",
              "           0,    0,    0,    0],\n",
              "       [   2,   95,   30, 1078,   31, 2078,  323,   83,    1,    4,    0,\n",
              "           0,    0,    0,    0],\n",
              "       [   2,   16,  106,  637,    6,  162,   49,   86,   44,    4,    0,\n",
              "           0,    0,    0,    0],\n",
              "       [   2,  103, 4145,  588,   22,    5,   19,  508,    4,    0,    0,\n",
              "           0,    0,    0,    0],\n",
              "       [   2,  125,  893, 1099,  455,   64,  484,    5, 1450, 4180,    4,\n",
              "           0,    0,    0,    0],\n",
              "       [   2,  156,   38,    1,    4,    1,    1,    1,  311,    4,    0,\n",
              "           0,    0,    0,    0],\n",
              "       [   2,   23, 1353,  227,   71, 2018,    1,    4,    0,    0,    0,\n",
              "           0,    0,    0,    0],\n",
              "       [   2,    1, 1213,  249,   49,  266,    5,  159,    4,    0,    0,\n",
              "           0,    0,    0,    0],\n",
              "       [   2,   18,  278,    1,  336,    1,    8,    0,    0,    0,    0,\n",
              "           0,    0,    0,    0],\n",
              "       [   2,    1,    4,    0,    0,    0,    0,    0,    0,    0,    0,\n",
              "           0,    0,    0,    0],\n",
              "       [   2,   29, 3686, 2883,    5,  638,    5, 1073,  120,    1,  128,\n",
              "        2142,    4,    0,    0],\n",
              "       [   2,  586,   18,    1,    1, 1637,  114,  537,   13,    8,    0,\n",
              "           0,    0,    0,    0],\n",
              "       [   2,  929,    5, 2600,  225,    1,    8,    0,    0,    0,    0,\n",
              "           0,    0,    0,    0],\n",
              "       [   2,  102,  276,    1,  992,    4,    0,    0,    0,    0,    0,\n",
              "           0,    0,    0,    0],\n",
              "       [   2,   29,   68, 2225,  224,   43,   59,    4,    0,    0,    0,\n",
              "           0,    0,    0,    0],\n",
              "       [   2,  392,  294,  325,  673, 2533,    7, 3943,   85,    5,  344,\n",
              "           4,    0,    0,    0],\n",
              "       [   2,    1, 2022,  292,  137,    1,    4,    0,    0,    0,    0,\n",
              "           0,    0,    0,    0],\n",
              "       [   2,  218,    1,    5,  504,  559,    4,    0,    0,    0,    0,\n",
              "           0,    0,    0,    0],\n",
              "       [   2,   33, 1285,  951,    5, 1094,    1,    5,  446,   28,  259,\n",
              "           4,    0,    0,    0],\n",
              "       [   2,   36,   81,  516,    6,   67,   29,   63,  673,  261,    6,\n",
              "        1248,  189,    4,    0],\n",
              "       [   2,    1, 4130,    1, 2617, 1264, 1362,    4,    0,    0,    0,\n",
              "           0,    0,    0,    0],\n",
              "       [   2,   23,   71,    5,   19,  682,  553,    4,    0,    0,    0,\n",
              "           0,    0,    0,    0],\n",
              "       [   2, 1683,    1,  203,   38,    1,    4,    0,    0,    0,    0,\n",
              "           0,    0,    0,    0],\n",
              "       [   2,  129,    1, 1877, 1877,    4,    0,    0,    0,    0,    0,\n",
              "           0,    0,    0,    0],\n",
              "       [   2,  119, 1888, 1184,  295,   55,  676, 2370, 2222, 2027,  136,\n",
              "         299,    1,    4,    0],\n",
              "       [   2,   65,    1,  176,   50,   45,   22,    5,    9,    4,    0,\n",
              "           0,    0,    0,    0],\n",
              "       [   2, 4337, 1394,   79,  107,  150,    1, 1330,    4,    0,    0,\n",
              "           0,    0,    0,    0],\n",
              "       [   2,   35,    1,   47,    1,    5, 1314, 1638,    1,  246,    4,\n",
              "           0,    0,    0,    0],\n",
              "       [   2,    7,   78,   51, 2164,  312,    6,  746,    4,    0,    0,\n",
              "           0,    0,    0,    0],\n",
              "       [   2, 3564,   36,   44,   73, 4809,    1,    4,    0,    0,    0,\n",
              "           0,    0,    0,    0],\n",
              "       [   2,    1,   13,    1, 4483,    8,    0,    0,    0,    0,    0,\n",
              "           0,    0,    0,    0],\n",
              "       [   2, 1004,  331,    1, 2319,  274,    1,    4,    0,    0,    0,\n",
              "           0,    0,    0,    0],\n",
              "       [   2,  718,   31, 1684,  225,    1,    5,  345,    1,    5,  126,\n",
              "           4,    0,    0,    0],\n",
              "       [   2,    7,  587,  299,   11,  416,    1,    4,    0,    0,    0,\n",
              "           0,    0,    0,    0],\n",
              "       [   2,  209,  427,  739,   98, 2521,    6,  140, 2650,  271,    4,\n",
              "           0,    0,    0,    0],\n",
              "       [   2,   95,   21,   15,   73,  810,    1,    1,  146,   41,  714,\n",
              "           5, 2170,    4,    0],\n",
              "       [   2,    9,   27, 2910,  494, 1469,    1,    1,    4,    0,    0,\n",
              "           0,    0,    0,    0],\n",
              "       [   2,    9, 3583,   45,    5,  134,    1,   99,   75,    4,    0,\n",
              "           0,    0,    0,    0],\n",
              "       [   2,   72,    1,    1,    9,    4,    0,    0,    0,    0,    0,\n",
              "           0,    0,    0,    0],\n",
              "       [   2,  387, 1158, 1831,  154,  856,  602,  703,   81,    4,    0,\n",
              "           0,    0,    0,    0],\n",
              "       [   2,    1, 3338, 1389,   20,   72,    5,   15,   73,  572,    4,\n",
              "           0,    0,    0,    0],\n",
              "       [   2,  212, 3992,  487,    5,   94,    1,    0,    0,    0,    0,\n",
              "           0,    0,    0,    0],\n",
              "       [   2,   24,    1, 3232,    5,  259,    4,    0,    0,    0,    0,\n",
              "           0,    0,    0,    0],\n",
              "       [   2,  172, 1709, 1993,    7,  671,    5,   67,  166,    4,    0,\n",
              "           0,    0,    0,    0],\n",
              "       [   2,   61,  177,   79,  779,    5, 1063, 1510,   52,    4,    0,\n",
              "           0,    0,    0,    0],\n",
              "       [   2,   15,  233, 2998,  685,   20,    7,    1,    4,    0,    0,\n",
              "           0,    0,    0,    0],\n",
              "       [   2, 1967,    5, 1071, 3727,   52,  419,    1, 2494,   66,    4,\n",
              "           0,    0,    0,    0],\n",
              "       [   2, 1374,   31,    1,   27,    1,   84,  398,    6,    1,    1,\n",
              "         502,   83, 2634,    4],\n",
              "       [   2,  589,   31, 3823,   30,  181,   21, 1206,    4,    0,    0,\n",
              "           0,    0,    0,    0],\n",
              "       [   2,   16,  205, 3061,    1,    6, 1727,    4,    0,    0,    0,\n",
              "           0,    0,    0,    0],\n",
              "       [   2,    7,   76,   11,  254,  422,    5,  159,   50,  219,    4,\n",
              "           0,    0,    0,    0],\n",
              "       [   2,    7, 3167,  282,  877,  668, 1015, 2771,    4,    0,    0,\n",
              "           0,    0,    0,    0],\n",
              "       [   2,  170,    1,    5,  257,    4,    0,    0,    0,    0,    0,\n",
              "           0,    0,    0,    0],\n",
              "       [   2,    9, 2760,  101,   42,  902,  855,    6,  347, 3488,  225,\n",
              "           4,    0,    0,    0]])"
            ]
          },
          "metadata": {},
          "execution_count": 23
        }
      ],
      "source": [
        "english_tokens"
      ]
    },
    {
      "cell_type": "code",
      "execution_count": null,
      "metadata": {
        "id": "_O-TyGhzhnYb"
      },
      "outputs": [],
      "source": [
        "corr = pd.DataFrame(english_tokens).corr()"
      ]
    },
    {
      "cell_type": "code",
      "execution_count": null,
      "metadata": {
        "colab": {
          "base_uri": "https://localhost:8080/",
          "height": 286
        },
        "id": "W_DTJZNGhnQ0",
        "outputId": "0b62ab41-2c8b-4bdf-fed2-fcc0f2f85681"
      },
      "outputs": [
        {
          "data": {
            "text/plain": [
              "<matplotlib.axes._subplots.AxesSubplot at 0x7f59df3a8a00>"
            ]
          },
          "execution_count": 37,
          "metadata": {},
          "output_type": "execute_result"
        },
        {
          "data": {
            "image/png": "[encoded data removed]",
            "text/plain": [
              "<Figure size 432x288 with 2 Axes>"
            ]
          },
          "metadata": {},
          "output_type": "display_data"
        }
      ],
      "source": [
        "sns.heatmap(corr)"
      ]
    },
    {
      "cell_type": "code",
      "execution_count": null,
      "metadata": {
        "id": "aP27VryRhnJJ"
      },
      "outputs": [],
      "source": [
        "luganda_tokens = ex_tar_out.numpy()"
      ]
    },
    {
      "cell_type": "markdown",
      "metadata": {
        "id": "hjACxWZitcS4"
      },
      "source": [
        "Colleration matrix"
      ]
    },
    {
      "cell_type": "code",
      "execution_count": null,
      "metadata": {
        "colab": {
          "base_uri": "https://localhost:8080/",
          "height": 269
        },
        "id": "Ac2_drs9taiF",
        "outputId": "7863e31a-dc9b-4c4b-ebf1-598bd684e7cc"
      },
      "outputs": [
        {
          "data": {
            "image/png": "[encoded data removed]",
            "text/plain": [
              "<Figure size 432x288 with 2 Axes>"
            ]
          },
          "metadata": {},
          "output_type": "display_data"
        }
      ],
      "source": [
        "dataplot = sns.heatmap(pd.DataFrame(english_tokens).corr(), cmap=\"YlGnBu\", annot=True)"
      ]
    },
    {
      "cell_type": "code",
      "execution_count": null,
      "metadata": {
        "id": "QgKIQopctbeA"
      },
      "outputs": [],
      "source": []
    },
    {
      "cell_type": "code",
      "execution_count": null,
      "metadata": {
        "id": "bDAj76Ejtbaa"
      },
      "outputs": [],
      "source": []
    },
    {
      "cell_type": "code",
      "execution_count": null,
      "metadata": {
        "id": "sZiGMW6MtbYV"
      },
      "outputs": [],
      "source": []
    },
    {
      "cell_type": "code",
      "execution_count": null,
      "metadata": {
        "id": "e0t3Sar-tbV8"
      },
      "outputs": [],
      "source": []
    },
    {
      "cell_type": "code",
      "execution_count": null,
      "metadata": {
        "colab": {
          "base_uri": "https://localhost:8080/",
          "height": 286
        },
        "id": "-wWhQlrmhnBg",
        "outputId": "5061aaec-8c57-4258-e493-f6bf8882b595"
      },
      "outputs": [
        {
          "data": {
            "text/plain": [
              "<matplotlib.axes._subplots.AxesSubplot at 0x7f59e452c880>"
            ]
          },
          "execution_count": 40,
          "metadata": {},
          "output_type": "execute_result"
        },
        {
          "data": {
            "image/png": "[encoded data removed]",
            "text/plain": [
              "<Figure size 432x288 with 2 Axes>"
            ]
          },
          "metadata": {},
          "output_type": "display_data"
        }
      ],
      "source": [
        "sns.heatmap(pd.DataFrame(luganda_tokens).corr())"
      ]
    },
    {
      "cell_type": "markdown",
      "metadata": {
        "id": "n8HIRULElyPG"
      },
      "source": [
        "Box Plot "
      ]
    },
    {
      "cell_type": "code",
      "execution_count": null,
      "metadata": {
        "colab": {
          "base_uri": "https://localhost:8080/",
          "height": 1000
        },
        "id": "dmseHS8ElxJ_",
        "outputId": "778f20c9-77f0-493e-84a7-0b05cae41519"
      },
      "outputs": [
        {
          "data": {
            "text/plain": [
              "{'whiskers': [<matplotlib.lines.Line2D at 0x7f59e4474eb0>,\n",
              "  <matplotlib.lines.Line2D at 0x7f59e4407250>,\n",
              "  <matplotlib.lines.Line2D at 0x7f59e4414700>,\n",
              "  <matplotlib.lines.Line2D at 0x7f59e4414a30>,\n",
              "  <matplotlib.lines.Line2D at 0x7f59e4420d90>,\n",
              "  <matplotlib.lines.Line2D at 0x7f59e442c100>,\n",
              "  <matplotlib.lines.Line2D at 0x7f59e4437460>,\n",
              "  <matplotlib.lines.Line2D at 0x7f59e4437790>,\n",
              "  <matplotlib.lines.Line2D at 0x7f59e43c5af0>,\n",
              "  <matplotlib.lines.Line2D at 0x7f59e43c5e20>,\n",
              "  <matplotlib.lines.Line2D at 0x7f59e43db1c0>,\n",
              "  <matplotlib.lines.Line2D at 0x7f59e43db4f0>,\n",
              "  <matplotlib.lines.Line2D at 0x7f59e43e7850>,\n",
              "  <matplotlib.lines.Line2D at 0x7f59e43e7b80>,\n",
              "  <matplotlib.lines.Line2D at 0x7f59e43f4ee0>,\n",
              "  <matplotlib.lines.Line2D at 0x7f59e4381250>,\n",
              "  <matplotlib.lines.Line2D at 0x7f59e438c5b0>,\n",
              "  <matplotlib.lines.Line2D at 0x7f59e438c8e0>,\n",
              "  <matplotlib.lines.Line2D at 0x7f59e4399c40>,\n",
              "  <matplotlib.lines.Line2D at 0x7f59e4399f70>,\n",
              "  <matplotlib.lines.Line2D at 0x7f59e43b2310>,\n",
              "  <matplotlib.lines.Line2D at 0x7f59e43b2640>,\n",
              "  <matplotlib.lines.Line2D at 0x7f59e43bb9a0>,\n",
              "  <matplotlib.lines.Line2D at 0x7f59e43bbcd0>,\n",
              "  <matplotlib.lines.Line2D at 0x7f59e4356070>,\n",
              "  <matplotlib.lines.Line2D at 0x7f59e43563a0>,\n",
              "  <matplotlib.lines.Line2D at 0x7f59e4362700>,\n",
              "  <matplotlib.lines.Line2D at 0x7f59e4362a30>,\n",
              "  <matplotlib.lines.Line2D at 0x7f59e436fd90>,\n",
              "  <matplotlib.lines.Line2D at 0x7f59e437b100>],\n",
              " 'caps': [<matplotlib.lines.Line2D at 0x7f59e44075b0>,\n",
              "  <matplotlib.lines.Line2D at 0x7f59e4407910>,\n",
              "  <matplotlib.lines.Line2D at 0x7f59e4414d60>,\n",
              "  <matplotlib.lines.Line2D at 0x7f59e44200d0>,\n",
              "  <matplotlib.lines.Line2D at 0x7f59e442c430>,\n",
              "  <matplotlib.lines.Line2D at 0x7f59e442c760>,\n",
              "  <matplotlib.lines.Line2D at 0x7f59e4437ac0>,\n",
              "  <matplotlib.lines.Line2D at 0x7f59e4437df0>,\n",
              "  <matplotlib.lines.Line2D at 0x7f59e43cf190>,\n",
              "  <matplotlib.lines.Line2D at 0x7f59e43cf4c0>,\n",
              "  <matplotlib.lines.Line2D at 0x7f59e43db820>,\n",
              "  <matplotlib.lines.Line2D at 0x7f59e43dbb50>,\n",
              "  <matplotlib.lines.Line2D at 0x7f59e43e7eb0>,\n",
              "  <matplotlib.lines.Line2D at 0x7f59e43f4220>,\n",
              "  <matplotlib.lines.Line2D at 0x7f59e4381580>,\n",
              "  <matplotlib.lines.Line2D at 0x7f59e43818b0>,\n",
              "  <matplotlib.lines.Line2D at 0x7f59e438cc10>,\n",
              "  <matplotlib.lines.Line2D at 0x7f59e438cf40>,\n",
              "  <matplotlib.lines.Line2D at 0x7f59e43a52e0>,\n",
              "  <matplotlib.lines.Line2D at 0x7f59e43a5610>,\n",
              "  <matplotlib.lines.Line2D at 0x7f59e43b2970>,\n",
              "  <matplotlib.lines.Line2D at 0x7f59e43b2ca0>,\n",
              "  <matplotlib.lines.Line2D at 0x7f59e434a040>,\n",
              "  <matplotlib.lines.Line2D at 0x7f59e434a370>,\n",
              "  <matplotlib.lines.Line2D at 0x7f59e43566d0>,\n",
              "  <matplotlib.lines.Line2D at 0x7f59e4356a00>,\n",
              "  <matplotlib.lines.Line2D at 0x7f59e4362d60>,\n",
              "  <matplotlib.lines.Line2D at 0x7f59e436f0d0>,\n",
              "  <matplotlib.lines.Line2D at 0x7f59e437b430>,\n",
              "  <matplotlib.lines.Line2D at 0x7f5a626d0fa0>],\n",
              " 'boxes': [<matplotlib.lines.Line2D at 0x7f59e4474b50>,\n",
              "  <matplotlib.lines.Line2D at 0x7f59e44143a0>,\n",
              "  <matplotlib.lines.Line2D at 0x7f59e4420a60>,\n",
              "  <matplotlib.lines.Line2D at 0x7f59e4437130>,\n",
              "  <matplotlib.lines.Line2D at 0x7f59e43c57c0>,\n",
              "  <matplotlib.lines.Line2D at 0x7f59e43cfe50>,\n",
              "  <matplotlib.lines.Line2D at 0x7f59e43e7520>,\n",
              "  <matplotlib.lines.Line2D at 0x7f59e43f4bb0>,\n",
              "  <matplotlib.lines.Line2D at 0x7f59e438c280>,\n",
              "  <matplotlib.lines.Line2D at 0x7f59e4399910>,\n",
              "  <matplotlib.lines.Line2D at 0x7f59e43a5fa0>,\n",
              "  <matplotlib.lines.Line2D at 0x7f59e43bb670>,\n",
              "  <matplotlib.lines.Line2D at 0x7f59e434ad00>,\n",
              "  <matplotlib.lines.Line2D at 0x7f59e43623d0>,\n",
              "  <matplotlib.lines.Line2D at 0x7f59e436fa60>],\n",
              " 'medians': [<matplotlib.lines.Line2D at 0x7f59e4407c70>,\n",
              "  <matplotlib.lines.Line2D at 0x7f59e4420400>,\n",
              "  <matplotlib.lines.Line2D at 0x7f59e442ca90>,\n",
              "  <matplotlib.lines.Line2D at 0x7f59e43c5160>,\n",
              "  <matplotlib.lines.Line2D at 0x7f59e43cf7f0>,\n",
              "  <matplotlib.lines.Line2D at 0x7f59e43dbe80>,\n",
              "  <matplotlib.lines.Line2D at 0x7f59e43f4550>,\n",
              "  <matplotlib.lines.Line2D at 0x7f59e4381be0>,\n",
              "  <matplotlib.lines.Line2D at 0x7f59e43992b0>,\n",
              "  <matplotlib.lines.Line2D at 0x7f59e43a5940>,\n",
              "  <matplotlib.lines.Line2D at 0x7f59e43b2fd0>,\n",
              "  <matplotlib.lines.Line2D at 0x7f59e434a6a0>,\n",
              "  <matplotlib.lines.Line2D at 0x7f59e4356d30>,\n",
              "  <matplotlib.lines.Line2D at 0x7f59e436f400>,\n",
              "  <matplotlib.lines.Line2D at 0x7f59df598af0>],\n",
              " 'fliers': [<matplotlib.lines.Line2D at 0x7f59e4407f70>,\n",
              "  <matplotlib.lines.Line2D at 0x7f59e44206d0>,\n",
              "  <matplotlib.lines.Line2D at 0x7f59e442cd60>,\n",
              "  <matplotlib.lines.Line2D at 0x7f59e43c5430>,\n",
              "  <matplotlib.lines.Line2D at 0x7f59e43cfac0>,\n",
              "  <matplotlib.lines.Line2D at 0x7f59e43e7190>,\n",
              "  <matplotlib.lines.Line2D at 0x7f59e43f4820>,\n",
              "  <matplotlib.lines.Line2D at 0x7f59e4381eb0>,\n",
              "  <matplotlib.lines.Line2D at 0x7f59e4399580>,\n",
              "  <matplotlib.lines.Line2D at 0x7f59e43a5c10>,\n",
              "  <matplotlib.lines.Line2D at 0x7f59e43bb2e0>,\n",
              "  <matplotlib.lines.Line2D at 0x7f59e434a970>,\n",
              "  <matplotlib.lines.Line2D at 0x7f59e4362040>,\n",
              "  <matplotlib.lines.Line2D at 0x7f59e436f6d0>,\n",
              "  <matplotlib.lines.Line2D at 0x7f59df5984f0>],\n",
              " 'means': []}"
            ]
          },
          "execution_count": 41,
          "metadata": {},
          "output_type": "execute_result"
        },
        {
          "data": {
            "image/png": "[encoded data removed]",
            "text/plain": [
              "<Figure size 432x288 with 1 Axes>"
            ]
          },
          "metadata": {},
          "output_type": "display_data"
        }
      ],
      "source": [
        "plt.boxplot(english_tokens)"
      ]
    },
    {
      "cell_type": "code",
      "execution_count": null,
      "metadata": {
        "colab": {
          "base_uri": "https://localhost:8080/",
          "height": 1000
        },
        "id": "MpwshUb3jdoG",
        "outputId": "5cc6ffef-f2e9-4536-dc50-e23b47896ea8"
      },
      "outputs": [
        {
          "data": {
            "text/plain": [
              "{'whiskers': [<matplotlib.lines.Line2D at 0x7f59df620af0>,\n",
              "  <matplotlib.lines.Line2D at 0x7f59df620d00>,\n",
              "  <matplotlib.lines.Line2D at 0x7f59df6b0dc0>,\n",
              "  <matplotlib.lines.Line2D at 0x7f59df6bf820>,\n",
              "  <matplotlib.lines.Line2D at 0x7f59df6cc1c0>,\n",
              "  <matplotlib.lines.Line2D at 0x7f59df6cc940>,\n",
              "  <matplotlib.lines.Line2D at 0x7f59df661ca0>,\n",
              "  <matplotlib.lines.Line2D at 0x7f59df6715b0>,\n",
              "  <matplotlib.lines.Line2D at 0x7f59e1785b20>,\n",
              "  <matplotlib.lines.Line2D at 0x7f59e1785400>,\n",
              "  <matplotlib.lines.Line2D at 0x7f59e1710310>,\n",
              "  <matplotlib.lines.Line2D at 0x7f59e17153d0>,\n",
              "  <matplotlib.lines.Line2D at 0x7f59e17b5eb0>,\n",
              "  <matplotlib.lines.Line2D at 0x7f59e17b5370>,\n",
              "  <matplotlib.lines.Line2D at 0x7f59df637ac0>,\n",
              "  <matplotlib.lines.Line2D at 0x7f59df637700>,\n",
              "  <matplotlib.lines.Line2D at 0x7f59df67df10>,\n",
              "  <matplotlib.lines.Line2D at 0x7f59df67d370>,\n",
              "  <matplotlib.lines.Line2D at 0x7f59e1706760>,\n",
              "  <matplotlib.lines.Line2D at 0x7f59e1706e50>,\n",
              "  <matplotlib.lines.Line2D at 0x7f59e172f460>,\n",
              "  <matplotlib.lines.Line2D at 0x7f59e172fa00>,\n",
              "  <matplotlib.lines.Line2D at 0x7f59df62cbb0>,\n",
              "  <matplotlib.lines.Line2D at 0x7f59df62cb80>,\n",
              "  <matplotlib.lines.Line2D at 0x7f59e170c460>,\n",
              "  <matplotlib.lines.Line2D at 0x7f59e170c880>,\n",
              "  <matplotlib.lines.Line2D at 0x7f59e174c460>,\n",
              "  <matplotlib.lines.Line2D at 0x7f59e174c3a0>,\n",
              "  <matplotlib.lines.Line2D at 0x7f59e17e1160>,\n",
              "  <matplotlib.lines.Line2D at 0x7f59e17e1520>],\n",
              " 'caps': [<matplotlib.lines.Line2D at 0x7f59df620f40>,\n",
              "  <matplotlib.lines.Line2D at 0x7f59df642940>,\n",
              "  <matplotlib.lines.Line2D at 0x7f59df6bf3d0>,\n",
              "  <matplotlib.lines.Line2D at 0x7f59df6bf9a0>,\n",
              "  <matplotlib.lines.Line2D at 0x7f59df6ccdc0>,\n",
              "  <matplotlib.lines.Line2D at 0x7f59df6616d0>,\n",
              "  <matplotlib.lines.Line2D at 0x7f59df671460>,\n",
              "  <matplotlib.lines.Line2D at 0x7f59df671940>,\n",
              "  <matplotlib.lines.Line2D at 0x7f59df5d6e80>,\n",
              "  <matplotlib.lines.Line2D at 0x7f59e17105b0>,\n",
              "  <matplotlib.lines.Line2D at 0x7f59e1715970>,\n",
              "  <matplotlib.lines.Line2D at 0x7f59e1715f10>,\n",
              "  <matplotlib.lines.Line2D at 0x7f59e1776850>,\n",
              "  <matplotlib.lines.Line2D at 0x7f59e1776430>,\n",
              "  <matplotlib.lines.Line2D at 0x7f59e1720670>,\n",
              "  <matplotlib.lines.Line2D at 0x7f59e17201f0>,\n",
              "  <matplotlib.lines.Line2D at 0x7f59df67dac0>,\n",
              "  <matplotlib.lines.Line2D at 0x7f59df67dd30>,\n",
              "  <matplotlib.lines.Line2D at 0x7f59e1740190>,\n",
              "  <matplotlib.lines.Line2D at 0x7f59e1740730>,\n",
              "  <matplotlib.lines.Line2D at 0x7f59e172ff70>,\n",
              "  <matplotlib.lines.Line2D at 0x7f59df5e7b20>,\n",
              "  <matplotlib.lines.Line2D at 0x7f59df629eb0>,\n",
              "  <matplotlib.lines.Line2D at 0x7f59df6293a0>,\n",
              "  <matplotlib.lines.Line2D at 0x7f59e170caf0>,\n",
              "  <matplotlib.lines.Line2D at 0x7f59e17ac040>,\n",
              "  <matplotlib.lines.Line2D at 0x7f59e174cb20>,\n",
              "  <matplotlib.lines.Line2D at 0x7f59e174cd00>,\n",
              "  <matplotlib.lines.Line2D at 0x7f59df68cc70>,\n",
              "  <matplotlib.lines.Line2D at 0x7f59df68c280>],\n",
              " 'boxes': [<matplotlib.lines.Line2D at 0x7f59df6209d0>,\n",
              "  <matplotlib.lines.Line2D at 0x7f59df6b0b50>,\n",
              "  <matplotlib.lines.Line2D at 0x7f59df6cc280>,\n",
              "  <matplotlib.lines.Line2D at 0x7f59df6614f0>,\n",
              "  <matplotlib.lines.Line2D at 0x7f59e1785520>,\n",
              "  <matplotlib.lines.Line2D at 0x7f59e1710fa0>,\n",
              "  <matplotlib.lines.Line2D at 0x7f59e17b5bb0>,\n",
              "  <matplotlib.lines.Line2D at 0x7f59e1776fd0>,\n",
              "  <matplotlib.lines.Line2D at 0x7f59e1720b20>,\n",
              "  <matplotlib.lines.Line2D at 0x7f59e1706340>,\n",
              "  <matplotlib.lines.Line2D at 0x7f59e172f0d0>,\n",
              "  <matplotlib.lines.Line2D at 0x7f59df62c340>,\n",
              "  <matplotlib.lines.Line2D at 0x7f59e170c190>,\n",
              "  <matplotlib.lines.Line2D at 0x7f59e17ac3d0>,\n",
              "  <matplotlib.lines.Line2D at 0x7f59e17e19d0>],\n",
              " 'medians': [<matplotlib.lines.Line2D at 0x7f59df6b0160>,\n",
              "  <matplotlib.lines.Line2D at 0x7f59df6bf580>,\n",
              "  <matplotlib.lines.Line2D at 0x7f59df6610a0>,\n",
              "  <matplotlib.lines.Line2D at 0x7f59df671f40>,\n",
              "  <matplotlib.lines.Line2D at 0x7f59e1710910>,\n",
              "  <matplotlib.lines.Line2D at 0x7f59e1715fa0>,\n",
              "  <matplotlib.lines.Line2D at 0x7f59e17769d0>,\n",
              "  <matplotlib.lines.Line2D at 0x7f59e1720790>,\n",
              "  <matplotlib.lines.Line2D at 0x7f59e17068e0>,\n",
              "  <matplotlib.lines.Line2D at 0x7f59e1740d00>,\n",
              "  <matplotlib.lines.Line2D at 0x7f59df5e7460>,\n",
              "  <matplotlib.lines.Line2D at 0x7f59df6298b0>,\n",
              "  <matplotlib.lines.Line2D at 0x7f59e17acbe0>,\n",
              "  <matplotlib.lines.Line2D at 0x7f59e17e1670>,\n",
              "  <matplotlib.lines.Line2D at 0x7f59df68cf10>],\n",
              " 'fliers': [<matplotlib.lines.Line2D at 0x7f59df6b0580>,\n",
              "  <matplotlib.lines.Line2D at 0x7f59df6bfb20>,\n",
              "  <matplotlib.lines.Line2D at 0x7f59df661820>,\n",
              "  <matplotlib.lines.Line2D at 0x7f59e17853d0>,\n",
              "  <matplotlib.lines.Line2D at 0x7f59e1710ca0>,\n",
              "  <matplotlib.lines.Line2D at 0x7f59e17b5550>,\n",
              "  <matplotlib.lines.Line2D at 0x7f59e1776d30>,\n",
              "  <matplotlib.lines.Line2D at 0x7f59e1720b80>,\n",
              "  <matplotlib.lines.Line2D at 0x7f59e1706640>,\n",
              "  <matplotlib.lines.Line2D at 0x7f59e17405e0>,\n",
              "  <matplotlib.lines.Line2D at 0x7f59df5e7d00>,\n",
              "  <matplotlib.lines.Line2D at 0x7f59e170cd30>,\n",
              "  <matplotlib.lines.Line2D at 0x7f59e17acf40>,\n",
              "  <matplotlib.lines.Line2D at 0x7f59e17e1f70>,\n",
              "  <matplotlib.lines.Line2D at 0x7f59df6164f0>],\n",
              " 'means': []}"
            ]
          },
          "execution_count": 42,
          "metadata": {},
          "output_type": "execute_result"
        },
        {
          "data": {
            "image/png": "[encoded data removed]",
            "text/plain": [
              "<Figure size 432x288 with 1 Axes>"
            ]
          },
          "metadata": {},
          "output_type": "display_data"
        }
      ],
      "source": [
        "plt.boxplot(luganda_tokens)"
      ]
    },
    {
      "cell_type": "code",
      "execution_count": null,
      "metadata": {
        "colab": {
          "base_uri": "https://localhost:8080/",
          "height": 337
        },
        "id": "AH6Fje2CjcUp",
        "outputId": "a75c42d5-edaa-453a-b6b4-bd1d30b7974b"
      },
      "outputs": [
        {
          "name": "stderr",
          "output_type": "stream",
          "text": [
            "/usr/local/lib/python3.8/dist-packages/seaborn/_decorators.py:36: FutureWarning: Pass the following variable as a keyword arg: x. From version 0.12, the only valid positional argument will be `data`, and passing other arguments without an explicit keyword will result in an error or misinterpretation.\n",
            "  warnings.warn(\n"
          ]
        },
        {
          "data": {
            "text/plain": [
              "<matplotlib.axes._subplots.AxesSubplot at 0x7f59e42cbb80>"
            ]
          },
          "execution_count": 43,
          "metadata": {},
          "output_type": "execute_result"
        },
        {
          "data": {
            "image/png": "[encoded data removed]",
            "text/plain": [
              "<Figure size 432x288 with 1 Axes>"
            ]
          },
          "metadata": {},
          "output_type": "display_data"
        }
      ],
      "source": [
        "sns.boxplot(english_tokens)"
      ]
    },
    {
      "cell_type": "code",
      "execution_count": null,
      "metadata": {
        "id": "PlBSZF-jjcLJ"
      },
      "outputs": [],
      "source": []
    },
    {
      "cell_type": "code",
      "execution_count": null,
      "metadata": {
        "colab": {
          "base_uri": "https://localhost:8080/",
          "height": 455
        },
        "id": "l9kpwwMIjb-i",
        "outputId": "ce1b3640-851d-447d-869c-1bb60ef9546e"
      },
      "outputs": [
        {
          "name": "stderr",
          "output_type": "stream",
          "text": [
            "/usr/local/lib/python3.8/dist-packages/seaborn/distributions.py:2619: FutureWarning: `distplot` is a deprecated function and will be removed in a future version. Please adapt your code to use either `displot` (a figure-level function with similar flexibility) or `kdeplot` (an axes-level function for kernel density plots).\n",
            "  warnings.warn(msg, FutureWarning)\n",
            "/usr/local/lib/python3.8/dist-packages/seaborn/distributions.py:1689: FutureWarning: The `vertical` parameter is deprecated and will be removed in a future version. Assign the data to the `y` variable instead.\n",
            "  warnings.warn(msg, FutureWarning)\n",
            "/usr/local/lib/python3.8/dist-packages/seaborn/distributions.py:2103: FutureWarning: The `axis` variable is no longer used and will be removed. Instead, assign variables directly to `x` or `y`.\n",
            "  warnings.warn(msg, FutureWarning)\n",
            "/usr/local/lib/python3.8/dist-packages/seaborn/distributions.py:2112: FutureWarning: Using `vertical=True` to control the orientation of the plot  is deprecated. Instead, assign the data directly to `y`. \n",
            "  warnings.warn(msg, FutureWarning)\n"
          ]
        },
        {
          "data": {
            "text/plain": [
              "<matplotlib.axes._subplots.AxesSubplot at 0x7f59e42908b0>"
            ]
          },
          "execution_count": 44,
          "metadata": {},
          "output_type": "execute_result"
        },
        {
          "data": {
            "image/png": "[encoded data removed]",
            "text/plain": [
              "<Figure size 432x288 with 1 Axes>"
            ]
          },
          "metadata": {},
          "output_type": "display_data"
        }
      ],
      "source": [
        "sns.distplot(english_tokens, kde=True, vertical=True, rug=True, hist=False, kde_kws=dict(shade=True), rug_kws=dict(lw=2, color='orange'))"
      ]
    },
    {
      "cell_type": "code",
      "execution_count": null,
      "metadata": {
        "id": "g2FmMfGWxs8g"
      },
      "outputs": [],
      "source": []
    },
    {
      "cell_type": "code",
      "execution_count": null,
      "metadata": {
        "id": "cjtNfVZBxs46"
      },
      "outputs": [],
      "source": []
    },
    {
      "cell_type": "code",
      "execution_count": null,
      "metadata": {
        "id": "wIyZpcPzxs17"
      },
      "outputs": [],
      "source": []
    },
    {
      "cell_type": "code",
      "execution_count": null,
      "metadata": {
        "id": "u-941ZNwhm6T"
      },
      "outputs": [],
      "source": []
    },
    {
      "cell_type": "code",
      "execution_count": null,
      "metadata": {
        "id": "8WJT1ijwJOQn"
      },
      "outputs": [],
      "source": [
        "UNITS = 256"
      ]
    },
    {
      "cell_type": "code",
      "execution_count": null,
      "metadata": {
        "id": "2ajvy8mrJONO"
      },
      "outputs": [],
      "source": [
        "class Encoder(tf.keras.layers.Layer):\n",
        "  def __init__(self, text_processor, units):\n",
        "    super(Encoder, self).__init__()\n",
        "    self.text_processor = text_processor\n",
        "    self.vocab_size = text_processor.vocabulary_size()\n",
        "    self.units = units\n",
        "    \n",
        "    # The embedding layer converts tokens to vectors\n",
        "    self.embedding = tf.keras.layers.Embedding(self.vocab_size, units,\n",
        "                                               mask_zero=True)\n",
        "\n",
        "    # The RNN layer processes those vectors sequentially.\n",
        "    self.rnn = tf.keras.layers.Bidirectional(\n",
        "        merge_mode='sum',\n",
        "        layer=tf.keras.layers.GRU(units,\n",
        "                            # Return the sequence and state\n",
        "                            return_sequences=True,\n",
        "                            recurrent_initializer='glorot_uniform'))\n",
        "\n",
        "  def call(self, x):\n",
        "    shape_checker = ShapeChecker()\n",
        "    shape_checker(x, 'batch s')\n",
        "\n",
        "    # 2. The embedding layer looks up the embedding vector for each token.\n",
        "    x = self.embedding(x)\n",
        "    shape_checker(x, 'batch s units')\n",
        "\n",
        "    # 3. The GRU processes the sequence of embeddings.\n",
        "    x = self.rnn(x)\n",
        "    shape_checker(x, 'batch s units')\n",
        "\n",
        "    # 4. Returns the new sequence of embeddings.\n",
        "    return x\n",
        "\n",
        "  def convert_input(self, texts):\n",
        "    texts = tf.convert_to_tensor(texts)\n",
        "    if len(texts.shape) == 0:\n",
        "      texts = tf.convert_to_tensor(texts)[tf.newaxis]\n",
        "    context = self.text_processor(texts).to_tensor()\n",
        "    context = self(context)\n",
        "    return context"
      ]
    },
    {
      "cell_type": "code",
      "execution_count": null,
      "metadata": {
        "colab": {
          "base_uri": "https://localhost:8080/"
        },
        "id": "Spwsdu4jJhhv",
        "outputId": "72022e87-d4aa-4f26-f2f2-668614bfe24e"
      },
      "outputs": [
        {
          "output_type": "stream",
          "name": "stdout",
          "text": [
            "Context tokens, shape (batch, s): (64, 18)\n",
            "Encoder output, shape (batch, s, units): (64, 18, 256)\n"
          ]
        }
      ],
      "source": [
        "# Encode the input sequence.\n",
        "encoder = Encoder(context_text_processor, UNITS)\n",
        "ex_context = encoder(ex_context_tok)\n",
        "\n",
        "print(f'Context tokens, shape (batch, s): {ex_context_tok.shape}')\n",
        "print(f'Encoder output, shape (batch, s, units): {ex_context.shape}')"
      ]
    },
    {
      "cell_type": "code",
      "execution_count": null,
      "metadata": {
        "id": "R1ALZiPYJhe3"
      },
      "outputs": [],
      "source": [
        "class CrossAttention(tf.keras.layers.Layer):\n",
        "  def __init__(self, units, **kwargs):\n",
        "    super().__init__()\n",
        "    self.mha = tf.keras.layers.MultiHeadAttention(key_dim=units, num_heads=1, **kwargs)\n",
        "    self.layernorm = tf.keras.layers.LayerNormalization()\n",
        "    self.add = tf.keras.layers.Add()\n",
        "\n",
        "  def call(self, x, context):\n",
        "    shape_checker = ShapeChecker()\n",
        " \n",
        "    shape_checker(x, 'batch t units')\n",
        "    shape_checker(context, 'batch s units')\n",
        "\n",
        "    attn_output, attn_scores = self.mha(\n",
        "        query=x,\n",
        "        value=context,\n",
        "        return_attention_scores=True)\n",
        "    \n",
        "    shape_checker(x, 'batch t units')\n",
        "    shape_checker(attn_scores, 'batch heads t s')\n",
        "    \n",
        "    # Cache the attention scores for plotting later.\n",
        "    attn_scores = tf.reduce_mean(attn_scores, axis=1)\n",
        "    shape_checker(attn_scores, 'batch t s')\n",
        "    self.last_attention_weights = attn_scores\n",
        "\n",
        "    x = self.add([x, attn_output])\n",
        "    x = self.layernorm(x)\n",
        "\n",
        "    return x"
      ]
    },
    {
      "cell_type": "code",
      "execution_count": null,
      "metadata": {
        "colab": {
          "base_uri": "https://localhost:8080/"
        },
        "id": "3nc7cRVxJhcO",
        "outputId": "17af02d1-f0a7-41ee-b71f-975b791793cb"
      },
      "outputs": [
        {
          "output_type": "stream",
          "name": "stdout",
          "text": [
            "Context sequence, shape (batch, s, units): (64, 18, 256)\n",
            "Target sequence, shape (batch, t, units): (64, 15, 256)\n",
            "Attention result, shape (batch, t, units): (64, 15, 256)\n",
            "Attention weights, shape (batch, t, s):    (64, 15, 18)\n"
          ]
        }
      ],
      "source": [
        "attention_layer = CrossAttention(UNITS)\n",
        "\n",
        "# Attend to the encoded tokens\n",
        "embed = tf.keras.layers.Embedding(target_text_processor.vocabulary_size(),\n",
        "                                  output_dim=UNITS, mask_zero=True)\n",
        "ex_tar_embed = embed(ex_tar_in)\n",
        "\n",
        "result = attention_layer(ex_tar_embed, ex_context)\n",
        "\n",
        "print(f'Context sequence, shape (batch, s, units): {ex_context.shape}')\n",
        "print(f'Target sequence, shape (batch, t, units): {ex_tar_embed.shape}')\n",
        "print(f'Attention result, shape (batch, t, units): {result.shape}')\n",
        "print(f'Attention weights, shape (batch, t, s):    {attention_layer.last_attention_weights.shape}')"
      ]
    },
    {
      "cell_type": "code",
      "execution_count": null,
      "metadata": {
        "colab": {
          "base_uri": "https://localhost:8080/"
        },
        "id": "KHY38Q3sJhZX",
        "outputId": "8db5227d-9c81-4919-a99c-7051795de97e"
      },
      "outputs": [
        {
          "output_type": "execute_result",
          "data": {
            "text/plain": [
              "array([1.        , 1.        , 1.        , 1.        , 1.        ,\n",
              "       1.        , 1.        , 1.        , 1.        , 0.99999994,\n",
              "       1.        , 1.        , 1.        , 1.        , 1.        ],\n",
              "      dtype=float32)"
            ]
          },
          "metadata": {},
          "execution_count": 29
        }
      ],
      "source": [
        "attention_layer.last_attention_weights[0].numpy().sum(axis=-1)"
      ]
    },
    {
      "cell_type": "code",
      "execution_count": null,
      "metadata": {
        "colab": {
          "base_uri": "https://localhost:8080/",
          "height": 281
        },
        "id": "zZa8J-PtJOJI",
        "outputId": "b893ba99-1a29-4629-e986-31c6bd27515a"
      },
      "outputs": [
        {
          "output_type": "display_data",
          "data": {
            "text/plain": [
              "<Figure size 432x288 with 2 Axes>"
            ],
            "image/png": "[encoded data removed]"
          },
          "metadata": {
            "needs_background": "light"
          }
        }
      ],
      "source": [
        "attention_weights = attention_layer.last_attention_weights\n",
        "mask=(ex_context_tok != 0).numpy()\n",
        "\n",
        "plt.subplot(1, 2, 1)\n",
        "plt.pcolormesh(mask*attention_weights[:, 0, :])\n",
        "plt.title('Attention weights')\n",
        "\n",
        "plt.subplot(1, 2, 2)\n",
        "plt.pcolormesh(mask)\n",
        "plt.title('Mask');\n"
      ]
    },
    {
      "cell_type": "code",
      "execution_count": null,
      "metadata": {
        "id": "1PyRKJTsJOF5"
      },
      "outputs": [],
      "source": [
        "class Decoder(tf.keras.layers.Layer):\n",
        "  @classmethod\n",
        "  def add_method(cls, fun):\n",
        "    setattr(cls, fun.__name__, fun)\n",
        "    return fun\n",
        "\n",
        "  def __init__(self, text_processor, units):\n",
        "    super(Decoder, self).__init__()\n",
        "    self.text_processor = text_processor\n",
        "    self.vocab_size = text_processor.vocabulary_size()\n",
        "    self.word_to_id = tf.keras.layers.StringLookup(\n",
        "        vocabulary=text_processor.get_vocabulary(),\n",
        "        mask_token='', oov_token='[UNK]')\n",
        "    self.id_to_word = tf.keras.layers.StringLookup(\n",
        "        vocabulary=text_processor.get_vocabulary(),\n",
        "        mask_token='', oov_token='[UNK]',\n",
        "        invert=True)\n",
        "    self.start_token = self.word_to_id('[START]')\n",
        "    self.end_token = self.word_to_id('[END]')\n",
        "\n",
        "    self.units = units\n",
        "\n",
        "\n",
        "    # 1. The embedding layer converts token IDs to vectors\n",
        "    self.embedding = tf.keras.layers.Embedding(self.vocab_size,\n",
        "                                               units, mask_zero=True)\n",
        "\n",
        "    # 2. The RNN keeps track of what's been generated so far.\n",
        "    self.rnn = tf.keras.layers.GRU(units,\n",
        "                                   return_sequences=True,\n",
        "                                   return_state=True,\n",
        "                                   recurrent_initializer='glorot_uniform')\n",
        "\n",
        "    # 3. The RNN output will be the query for the attention layer.\n",
        "    self.attention = CrossAttention(units)\n",
        "\n",
        "    # 4. This fully connected layer produces the logits for each\n",
        "    # output token.\n",
        "    self.output_layer = tf.keras.layers.Dense(self.vocab_size)"
      ]
    },
    {
      "cell_type": "code",
      "execution_count": null,
      "metadata": {
        "id": "6-GrJf5rJzdw"
      },
      "outputs": [],
      "source": [
        "@Decoder.add_method\n",
        "def call(self,\n",
        "         context, x,\n",
        "         state=None,\n",
        "         return_state=False):  \n",
        "  shape_checker = ShapeChecker()\n",
        "  shape_checker(x, 'batch t')\n",
        "  shape_checker(context, 'batch s units')\n",
        "\n",
        "  # 1. Lookup the embeddings\n",
        "  x = self.embedding(x)\n",
        "  shape_checker(x, 'batch t units')\n",
        "\n",
        "  # 2. Process the target sequence.\n",
        "  x, state = self.rnn(x, initial_state=state)\n",
        "  shape_checker(x, 'batch t units')\n",
        "\n",
        "  # 3. Use the RNN output as the query for the attention over the context.\n",
        "  x = self.attention(x, context)\n",
        "  self.last_attention_weights = self.attention.last_attention_weights\n",
        "  shape_checker(x, 'batch t units')\n",
        "  shape_checker(self.last_attention_weights, 'batch t s')\n",
        "\n",
        "  # Step 4. Generate logit predictions for the next token.\n",
        "  logits = self.output_layer(x)\n",
        "  shape_checker(logits, 'batch t target_vocab_size')\n",
        "\n",
        "  if return_state:\n",
        "    return logits, state\n",
        "  else:\n",
        "    return logits"
      ]
    },
    {
      "cell_type": "code",
      "execution_count": null,
      "metadata": {
        "id": "BtrQ-HTaJzal"
      },
      "outputs": [],
      "source": [
        "decoder = Decoder(target_text_processor, UNITS)"
      ]
    },
    {
      "cell_type": "code",
      "execution_count": null,
      "metadata": {
        "colab": {
          "base_uri": "https://localhost:8080/"
        },
        "id": "5U-ieaDZJzXZ",
        "outputId": "f27263e1-b775-4a73-c50d-ddb406f0d91f"
      },
      "outputs": [
        {
          "output_type": "stream",
          "name": "stdout",
          "text": [
            "encoder output shape: (batch, s, units) (64, 18, 256)\n",
            "input target tokens shape: (batch, t) (64, 15)\n",
            "logits shape shape: (batch, target_vocabulary_size) (64, 15, 5000)\n"
          ]
        }
      ],
      "source": [
        "logits = decoder(ex_context, ex_tar_in)\n",
        "\n",
        "print(f'encoder output shape: (batch, s, units) {ex_context.shape}')\n",
        "print(f'input target tokens shape: (batch, t) {ex_tar_in.shape}')\n",
        "print(f'logits shape shape: (batch, target_vocabulary_size) {logits.shape}')"
      ]
    },
    {
      "cell_type": "code",
      "execution_count": null,
      "metadata": {
        "id": "xdily8JdJzT3"
      },
      "outputs": [],
      "source": [
        "@Decoder.add_method\n",
        "def get_initial_state(self, context):\n",
        "  batch_size = tf.shape(context)[0]\n",
        "  start_tokens = tf.fill([batch_size, 1], self.start_token)\n",
        "  done = tf.zeros([batch_size, 1], dtype=tf.bool)\n",
        "  embedded = self.embedding(start_tokens)\n",
        "  return start_tokens, done, self.rnn.get_initial_state(embedded)[0]"
      ]
    },
    {
      "cell_type": "code",
      "execution_count": null,
      "metadata": {
        "id": "X6zo9tnxJzQj"
      },
      "outputs": [],
      "source": [
        "@Decoder.add_method\n",
        "def tokens_to_text(self, tokens):\n",
        "  words = self.id_to_word(tokens)\n",
        "  result = tf.strings.reduce_join(words, axis=-1, separator=' ')\n",
        "  result = tf.strings.regex_replace(result, '^ *\\[START\\] *', '')\n",
        "  result = tf.strings.regex_replace(result, ' *\\[END\\] *$', '')\n",
        "  return result"
      ]
    },
    {
      "cell_type": "code",
      "execution_count": null,
      "metadata": {
        "id": "TYWAqnlaJzNk"
      },
      "outputs": [],
      "source": [
        "@Decoder.add_method\n",
        "def get_next_token(self, context, next_token, done, state, temperature = 0.0):\n",
        "  logits, state = self(\n",
        "    context, next_token,\n",
        "    state = state,\n",
        "    return_state=True) \n",
        "  \n",
        "  if temperature == 0.0:\n",
        "    next_token = tf.argmax(logits, axis=-1)\n",
        "  else:\n",
        "    logits = logits[:, -1, :]/temperature\n",
        "    next_token = tf.random.categorical(logits, num_samples=1)\n",
        "\n",
        "  # If a sequence produces an `end_token`, set it `done`\n",
        "  done = done | (next_token == self.end_token)\n",
        "  # Once a sequence is done it only produces 0-padding.\n",
        "  next_token = tf.where(done, tf.constant(0, dtype=tf.int64), next_token)\n",
        "  \n",
        "  return next_token, done, state"
      ]
    },
    {
      "cell_type": "code",
      "execution_count": null,
      "metadata": {
        "colab": {
          "base_uri": "https://localhost:8080/"
        },
        "id": "2vbCjVSUKFcj",
        "outputId": "2a83a797-76c4-4f87-b849-216795c0f4ef"
      },
      "outputs": [
        {
          "output_type": "execute_result",
          "data": {
            "text/plain": [
              "array([b'ekikola omwavu yessomero okunogera yokukwatamu obuvunaanyibwa okuli egyokufuna yeetegese olwokufa',\n",
              "       b'gano byebyokwerinda kukola yabawadde yamba mbalama lyebisolo zebitundu bazimba okweyagaliza',\n",
              "       b'zitumbula obuvunaanyizibwa ezobulamu omuto lwonna okusigala gyekkanisa bwekibumba ebyokukozesa yomusolo'],\n",
              "      dtype=object)"
            ]
          },
          "metadata": {},
          "execution_count": 38
        }
      ],
      "source": [
        "# Setup the loop variables.\n",
        "next_token, done, state = decoder.get_initial_state(ex_context)\n",
        "tokens = []\n",
        "\n",
        "for n in range(10):\n",
        "  # Run one step.\n",
        "  next_token, done, state = decoder.get_next_token(\n",
        "      ex_context, next_token, done, state, temperature=1.0)\n",
        "  # Add the token to the output.\n",
        "  tokens.append(next_token)\n",
        "\n",
        "# Stack all the tokens together.\n",
        "tokens = tf.concat(tokens, axis=-1) # (batch, t)\n",
        "\n",
        "# Convert the tokens back to a a string\n",
        "result = decoder.tokens_to_text(tokens)\n",
        "result[:3].numpy()"
      ]
    },
    {
      "cell_type": "code",
      "execution_count": null,
      "metadata": {
        "id": "7caEz6GmKFZz"
      },
      "outputs": [],
      "source": [
        "class Translator(tf.keras.Model):\n",
        "  @classmethod\n",
        "  def add_method(cls, fun):\n",
        "    setattr(cls, fun.__name__, fun)\n",
        "    return fun\n",
        "\n",
        "  def __init__(self, units,\n",
        "               context_text_processor,\n",
        "               target_text_processor):\n",
        "    super().__init__()\n",
        "    # Build the encoder and decoder\n",
        "    encoder = Encoder(context_text_processor, units)\n",
        "    decoder = Decoder(target_text_processor, units)\n",
        "\n",
        "    self.encoder = encoder\n",
        "    self.decoder = decoder\n",
        "\n",
        "  def call(self, inputs):\n",
        "    context, x = inputs\n",
        "    context = self.encoder(context)\n",
        "    logits = self.decoder(context, x)\n",
        "\n",
        "    #TODO(b/250038731): remove this\n",
        "    try:\n",
        "      # Delete the keras mask, so keras doesn't scale the loss+accuracy. \n",
        "      del logits._keras_mask\n",
        "    except AttributeError:\n",
        "      pass\n",
        "\n",
        "    return logits"
      ]
    },
    {
      "cell_type": "code",
      "execution_count": null,
      "metadata": {
        "colab": {
          "base_uri": "https://localhost:8080/"
        },
        "id": "-fhsvlBdKFW0",
        "outputId": "eaa0dfea-4e16-4fbb-a2ee-d8f24da718ac"
      },
      "outputs": [
        {
          "output_type": "stream",
          "name": "stdout",
          "text": [
            "Context tokens, shape: (batch, s, units) (64, 18)\n",
            "Target tokens, shape: (batch, t) (64, 15)\n",
            "logits, shape: (batch, t, target_vocabulary_size) (64, 15, 5000)\n"
          ]
        }
      ],
      "source": [
        "model = Translator(UNITS, context_text_processor, target_text_processor)\n",
        "\n",
        "logits = model((ex_context_tok, ex_tar_in))\n",
        "\n",
        "print(f'Context tokens, shape: (batch, s, units) {ex_context_tok.shape}')\n",
        "print(f'Target tokens, shape: (batch, t) {ex_tar_in.shape}')\n",
        "print(f'logits, shape: (batch, t, target_vocabulary_size) {logits.shape}')"
      ]
    },
    {
      "cell_type": "code",
      "execution_count": null,
      "metadata": {
        "id": "oUtAFpfnKFT6"
      },
      "outputs": [],
      "source": [
        "def masked_loss(y_true, y_pred):\n",
        "    # Calculate the loss for each item in the batch.\n",
        "    loss_fn = tf.keras.losses.SparseCategoricalCrossentropy(\n",
        "        from_logits=True, reduction='none')\n",
        "    loss = loss_fn(y_true, y_pred)\n",
        "\n",
        "    # Mask off the losses on padding.\n",
        "    mask = tf.cast(y_true != 0, loss.dtype)\n",
        "    loss *= mask\n",
        "\n",
        "    # Return the total.\n",
        "    return tf.reduce_sum(loss)/tf.reduce_sum(mask)"
      ]
    },
    {
      "cell_type": "code",
      "execution_count": null,
      "metadata": {
        "id": "2WBGdb1-KFRV"
      },
      "outputs": [],
      "source": [
        "def masked_acc(y_true, y_pred):\n",
        "    # Calculate the loss for each item in the batch.\n",
        "    y_pred = tf.argmax(y_pred, axis=-1)\n",
        "    y_pred = tf.cast(y_pred, y_true.dtype)\n",
        "    \n",
        "    match = tf.cast(y_true == y_pred, tf.float32)\n",
        "    mask = tf.cast(y_true != 0, tf.float32)\n",
        "    \n",
        "    return tf.reduce_sum(match)/tf.reduce_sum(mask)"
      ]
    },
    {
      "cell_type": "code",
      "execution_count": null,
      "metadata": {
        "id": "gU7gxA1dKFOi"
      },
      "outputs": [],
      "source": [
        "model.compile(optimizer='adam',\n",
        "              loss=masked_loss, \n",
        "              metrics=[masked_acc, masked_loss])"
      ]
    },
    {
      "cell_type": "code",
      "execution_count": null,
      "metadata": {
        "colab": {
          "base_uri": "https://localhost:8080/"
        },
        "id": "Zf_IpHp9KFLi",
        "outputId": "ff3bc510-c705-4058-bf8f-c4bc3d5a1982"
      },
      "outputs": [
        {
          "output_type": "execute_result",
          "data": {
            "text/plain": [
              "{'expected_loss': 8.517193, 'expected_acc': 0.0002}"
            ]
          },
          "metadata": {},
          "execution_count": 44
        }
      ],
      "source": [
        "vocab_size = 1.0 * target_text_processor.vocabulary_size()\n",
        "\n",
        "{\"expected_loss\": tf.math.log(vocab_size).numpy(),\n",
        " \"expected_acc\": 1/vocab_size}"
      ]
    },
    {
      "cell_type": "code",
      "execution_count": null,
      "metadata": {
        "colab": {
          "base_uri": "https://localhost:8080/"
        },
        "id": "uqsoO9XHKYYO",
        "outputId": "e7ec844d-f0b2-4ff1-af78-c19adb679bfd"
      },
      "outputs": [
        {
          "output_type": "stream",
          "name": "stdout",
          "text": [
            "20/20 [==============================] - 9s 29ms/step - loss: 8.5210 - masked_acc: 1.7424e-04 - masked_loss: 8.5210\n"
          ]
        },
        {
          "output_type": "execute_result",
          "data": {
            "text/plain": [
              "{'loss': 8.520994186401367,\n",
              " 'masked_acc': 0.00017423505778424442,\n",
              " 'masked_loss': 8.520994186401367}"
            ]
          },
          "metadata": {},
          "execution_count": 45
        }
      ],
      "source": [
        "model.evaluate(val_ds, steps=20, return_dict=True)"
      ]
    },
    {
      "cell_type": "code",
      "execution_count": null,
      "metadata": {
        "colab": {
          "base_uri": "https://localhost:8080/"
        },
        "id": "3rfi_KaUKYVA",
        "outputId": "381a6406-f90b-4e56-bba9-50cb75d13958"
      },
      "outputs": [
        {
          "output_type": "stream",
          "name": "stdout",
          "text": [
            "Epoch 1/100\n",
            "100/100 [==============================] - 30s 163ms/step - loss: 5.5709 - masked_acc: 0.2711 - masked_loss: 5.5709 - val_loss: 4.6712 - val_masked_acc: 0.3523 - val_masked_loss: 4.6712\n",
            "Epoch 2/100\n",
            "100/100 [==============================] - 9s 85ms/step - loss: 4.6265 - masked_acc: 0.3540 - masked_loss: 4.6258 - val_loss: 4.1373 - val_masked_acc: 0.4004 - val_masked_loss: 4.1373\n",
            "Epoch 3/100\n",
            "100/100 [==============================] - 6s 57ms/step - loss: 3.8783 - masked_acc: 0.4179 - masked_loss: 3.8783 - val_loss: 3.6408 - val_masked_acc: 0.4394 - val_masked_loss: 3.6408\n",
            "Epoch 4/100\n",
            "100/100 [==============================] - 6s 59ms/step - loss: 3.3439 - masked_acc: 0.4645 - masked_loss: 3.3438 - val_loss: 3.2268 - val_masked_acc: 0.4799 - val_masked_loss: 3.2268\n",
            "Epoch 5/100\n",
            "100/100 [==============================] - 5s 52ms/step - loss: 2.6693 - masked_acc: 0.5285 - masked_loss: 2.6693 - val_loss: 2.9533 - val_masked_acc: 0.5055 - val_masked_loss: 2.9533\n",
            "Epoch 6/100\n",
            "100/100 [==============================] - 5s 52ms/step - loss: 2.2941 - masked_acc: 0.5721 - masked_loss: 2.2956 - val_loss: 2.7833 - val_masked_acc: 0.5221 - val_masked_loss: 2.7833\n",
            "Epoch 7/100\n",
            "100/100 [==============================] - 5s 49ms/step - loss: 1.8036 - masked_acc: 0.6267 - masked_loss: 1.8036 - val_loss: 2.7026 - val_masked_acc: 0.5262 - val_masked_loss: 2.7026\n",
            "Epoch 8/100\n",
            "100/100 [==============================] - 5s 53ms/step - loss: 1.5367 - masked_acc: 0.6675 - masked_loss: 1.5385 - val_loss: 2.6849 - val_masked_acc: 0.5273 - val_masked_loss: 2.6849\n",
            "Epoch 9/100\n",
            "100/100 [==============================] - 5s 49ms/step - loss: 1.2473 - masked_acc: 0.7061 - masked_loss: 1.2473 - val_loss: 2.6719 - val_masked_acc: 0.5329 - val_masked_loss: 2.6719\n",
            "Epoch 10/100\n",
            "100/100 [==============================] - 7s 66ms/step - loss: 1.0117 - masked_acc: 0.7554 - masked_loss: 1.0130 - val_loss: 2.7429 - val_masked_acc: 0.5307 - val_masked_loss: 2.7429\n",
            "Epoch 11/100\n",
            "100/100 [==============================] - 5s 48ms/step - loss: 0.8760 - masked_acc: 0.7766 - masked_loss: 0.8760 - val_loss: 2.7671 - val_masked_acc: 0.5272 - val_masked_loss: 2.7671\n",
            "Epoch 12/100\n",
            "100/100 [==============================] - 5s 50ms/step - loss: 0.6705 - masked_acc: 0.8281 - masked_loss: 0.6723 - val_loss: 2.7553 - val_masked_acc: 0.5393 - val_masked_loss: 2.7553\n",
            "Epoch 13/100\n",
            "100/100 [==============================] - 5s 47ms/step - loss: 0.6238 - masked_acc: 0.8344 - masked_loss: 0.6238 - val_loss: 2.9120 - val_masked_acc: 0.5278 - val_masked_loss: 2.9120\n",
            "Epoch 14/100\n",
            "100/100 [==============================] - 5s 51ms/step - loss: 0.4708 - masked_acc: 0.8740 - masked_loss: 0.4716 - val_loss: 2.9541 - val_masked_acc: 0.5389 - val_masked_loss: 2.9541\n",
            "Epoch 15/100\n",
            "100/100 [==============================] - 5s 46ms/step - loss: 0.4488 - masked_acc: 0.8773 - masked_loss: 0.4488 - val_loss: 2.9813 - val_masked_acc: 0.5286 - val_masked_loss: 2.9813\n",
            "Epoch 16/100\n",
            "100/100 [==============================] - 5s 47ms/step - loss: 0.3197 - masked_acc: 0.9148 - masked_loss: 0.3205 - val_loss: 3.0828 - val_masked_acc: 0.5281 - val_masked_loss: 3.0828\n",
            "Epoch 17/100\n",
            "100/100 [==============================] - 6s 63ms/step - loss: 0.3375 - masked_acc: 0.9080 - masked_loss: 0.3375 - val_loss: 3.1666 - val_masked_acc: 0.5353 - val_masked_loss: 3.1666\n",
            "Epoch 18/100\n",
            "100/100 [==============================] - 5s 46ms/step - loss: 0.2227 - masked_acc: 0.9410 - masked_loss: 0.2233 - val_loss: 3.2822 - val_masked_acc: 0.5232 - val_masked_loss: 3.2822\n",
            "Epoch 19/100\n",
            "100/100 [==============================] - 5s 45ms/step - loss: 0.2505 - masked_acc: 0.9327 - masked_loss: 0.2507 - val_loss: 3.3139 - val_masked_acc: 0.5220 - val_masked_loss: 3.3139\n"
          ]
        }
      ],
      "source": [
        "history = model.fit(\n",
        "    train_ds.repeat(), \n",
        "    epochs=100,\n",
        "    steps_per_epoch = 100,\n",
        "    validation_data=val_ds,\n",
        "    validation_steps = 20,\n",
        "    callbacks=[\n",
        "        tf.keras.callbacks.EarlyStopping(patience=10)])"
      ]
    },
    {
      "cell_type": "code",
      "execution_count": null,
      "metadata": {
        "colab": {
          "base_uri": "https://localhost:8080/",
          "height": 296
        },
        "id": "181w07bnKYRU",
        "outputId": "4ee74b25-4dc7-434b-be1c-ec0c36b1a206"
      },
      "outputs": [
        {
          "output_type": "execute_result",
          "data": {
            "text/plain": [
              "<matplotlib.legend.Legend at 0x7fc5701efd90>"
            ]
          },
          "metadata": {},
          "execution_count": 60
        },
        {
          "output_type": "display_data",
          "data": {
            "text/plain": [
              "<Figure size 432x288 with 1 Axes>"
            ],
            "image/png": "[encoded data removed]"
          },
          "metadata": {
            "needs_background": "light"
          }
        }
      ],
      "source": [
        "plt.plot(history.history['loss'], label='loss')\n",
        "plt.plot(history.history['val_loss'], label='val_loss')\n",
        "plt.ylim([0, max(plt.ylim())])\n",
        "plt.xlabel('Epoch #')\n",
        "plt.ylabel('CE/token')\n",
        "plt.legend()"
      ]
    },
    {
      "cell_type": "code",
      "execution_count": null,
      "metadata": {
        "colab": {
          "base_uri": "https://localhost:8080/",
          "height": 296
        },
        "id": "GewrK9cgKYNk",
        "outputId": "695a6d90-f2da-4ec2-9e66-db9458f8e8a2"
      },
      "outputs": [
        {
          "output_type": "execute_result",
          "data": {
            "text/plain": [
              "<matplotlib.legend.Legend at 0x7fc4c1127fd0>"
            ]
          },
          "metadata": {},
          "execution_count": 61
        },
        {
          "output_type": "display_data",
          "data": {
            "text/plain": [
              "<Figure size 432x288 with 1 Axes>"
            ],
            "image/png": "[encoded data removed]"
          },
          "metadata": {
            "needs_background": "light"
          }
        }
      ],
      "source": [
        "plt.plot(history.history['masked_acc'], label='accuracy')\n",
        "plt.plot(history.history['val_masked_acc'], label='val_accuracy')\n",
        "plt.ylim([0, max(plt.ylim())])\n",
        "plt.xlabel('Epoch #')\n",
        "plt.ylabel('CE/token')\n",
        "plt.legend()"
      ]
    },
    {
      "cell_type": "code",
      "execution_count": null,
      "metadata": {
        "id": "RIfbz0G2KYKQ"
      },
      "outputs": [],
      "source": [
        "#@title\n",
        "@Translator.add_method\n",
        "def translate(self,\n",
        "              texts, *,\n",
        "              max_length=50,\n",
        "              temperature=0.0):\n",
        "  # Process the input texts\n",
        "  context = self.encoder.convert_input(texts)\n",
        "  batch_size = tf.shape(texts)[0]\n",
        "\n",
        "  # Setup the loop inputs\n",
        "  tokens = []\n",
        "  attention_weights = []\n",
        "  next_token, done, state = self.decoder.get_initial_state(context)\n",
        "\n",
        "  for _ in range(max_length):\n",
        "    # Generate the next token\n",
        "    next_token, done, state = self.decoder.get_next_token(\n",
        "        context, next_token, done,  state, temperature)\n",
        "        \n",
        "    # Collect the generated tokens\n",
        "    tokens.append(next_token)\n",
        "    attention_weights.append(self.decoder.last_attention_weights)\n",
        "    \n",
        "    if tf.executing_eagerly() and tf.reduce_all(done):\n",
        "      break\n",
        "\n",
        "  # Stack the lists of tokens and attention weights.\n",
        "  tokens = tf.concat(tokens, axis=-1)   # t*[(batch 1)] -> (batch, t)\n",
        "  self.last_attention_weights = tf.concat(attention_weights, axis=1)  # t*[(batch 1 s)] -> (batch, t s)\n",
        "\n",
        "  result = self.decoder.tokens_to_text(tokens)\n",
        "  return result"
      ]
    },
    {
      "cell_type": "code",
      "execution_count": null,
      "metadata": {
        "colab": {
          "base_uri": "https://localhost:8080/",
          "height": 35
        },
        "id": "bIE1zHZiJzKc",
        "outputId": "b79305ff-fedc-4e30-9edd-3048d35dd37f"
      },
      "outputs": [
        {
          "output_type": "execute_result",
          "data": {
            "text/plain": [
              "'pulojekiti ziyamba mu kusimba emiti mu bukiikakkono bwa uganda . '"
            ],
            "application/vnd.google.colaboratory.intrinsic+json": {
              "type": "string"
            }
          },
          "metadata": {},
          "execution_count": 69
        }
      ],
      "source": [
        "result = model.translate(['Projects are helping with the planting of trees in the Northern part of Uganda.']) # Are you still home\n",
        "result[0].numpy().decode()"
      ]
    },
    {
      "cell_type": "code",
      "source": [
        "result = model.translate(['Pupils are performing well in the primary leaving examinations.']) # Are you still home\n",
        "result[0].numpy().decode()"
      ],
      "metadata": {
        "colab": {
          "base_uri": "https://localhost:8080/",
          "height": 35
        },
        "id": "xOqvXWPwGb43",
        "outputId": "2f9357c6-9378-4ec9-dca2-a4e65b6ef0b2"
      },
      "execution_count": null,
      "outputs": [
        {
          "output_type": "execute_result",
          "data": {
            "text/plain": [
              "'abayizi bakola obulungi mu bibuuzo byakamalirizo [UNK] [UNK] ebigezo byakamalirizo ? '"
            ],
            "application/vnd.google.colaboratory.intrinsic+json": {
              "type": "string"
            }
          },
          "metadata": {},
          "execution_count": 70
        }
      ]
    },
    {
      "cell_type": "code",
      "source": [
        "result = model.translate(['i am going to school today']) # Are you still home\n",
        "result[0].numpy().decode()"
      ],
      "metadata": {
        "colab": {
          "base_uri": "https://localhost:8080/",
          "height": 35
        },
        "id": "i2zVXScHGwZP",
        "outputId": "6b537af5-a8cc-4329-debe-16a6ebb21b09"
      },
      "execution_count": null,
      "outputs": [
        {
          "output_type": "execute_result",
          "data": {
            "text/plain": [
              "'ngenda ku ssomero leero . '"
            ],
            "application/vnd.google.colaboratory.intrinsic+json": {
              "type": "string"
            }
          },
          "metadata": {},
          "execution_count": 71
        }
      ]
    },
    {
      "cell_type": "code",
      "execution_count": null,
      "metadata": {
        "colab": {
          "base_uri": "https://localhost:8080/",
          "height": 443
        },
        "id": "Kke47s--JzHm",
        "outputId": "4d8dc957-1438-49db-b69a-fe656755f943"
      },
      "outputs": [
        {
          "name": "stdout",
          "output_type": "stream",
          "text": [
            "CPU times: user 295 ms, sys: 4.87 ms, total: 300 ms\n",
            "Wall time: 293 ms\n"
          ]
        },
        {
          "data": {
            "image/png": "[encoded data removed]",
            "text/plain": [
              "<Figure size 720x720 with 1 Axes>"
            ]
          },
          "metadata": {},
          "output_type": "display_data"
        }
      ],
      "source": [
        "%%time\n",
        "# This is my life.\n",
        "model.plot_attention('Projects are helping with the planting of trees in the Northern part of Uganda.')"
      ]
    },
    {
      "cell_type": "code",
      "execution_count": null,
      "metadata": {
        "id": "Lz79DrYcJOCD"
      },
      "outputs": [],
      "source": [
        "#@title\n",
        "@Translator.add_method\n",
        "def plot_attention(self, text, **kwargs):\n",
        "  assert isinstance(text, str)\n",
        "  output = self.translate([text], **kwargs)\n",
        "  output = output[0].numpy().decode()\n",
        "\n",
        "  attention = self.last_attention_weights[0]\n",
        "\n",
        "  context = tf_lower_and_split_punct(text)\n",
        "  context = context.numpy().decode().split()\n",
        "\n",
        "  output = tf_lower_and_split_punct(output)\n",
        "  output = output.numpy().decode().split()[1:]\n",
        "\n",
        "  fig = plt.figure(figsize=(10, 10))\n",
        "  ax = fig.add_subplot(1, 1, 1)\n",
        "\n",
        "  ax.matshow(attention, cmap='viridis', vmin=0.0)\n",
        "\n",
        "  fontdict = {'fontsize': 14}\n",
        "\n",
        "  ax.set_xticklabels([''] + context, fontdict=fontdict, rotation=90)\n",
        "  ax.set_yticklabels([''] + output, fontdict=fontdict)\n",
        "\n",
        "  ax.xaxis.set_major_locator(ticker.MultipleLocator(1))\n",
        "  ax.yaxis.set_major_locator(ticker.MultipleLocator(1))\n",
        "\n",
        "  ax.set_xlabel('Input text')\n",
        "  ax.set_ylabel('Output text')"
      ]
    },
    {
      "cell_type": "code",
      "execution_count": null,
      "metadata": {
        "id": "zrqU8f0YM2_4"
      },
      "outputs": [],
      "source": [
        "inputs = context_raw[:10]"
      ]
    },
    {
      "cell_type": "code",
      "execution_count": null,
      "metadata": {
        "colab": {
          "base_uri": "https://localhost:8080/"
        },
        "id": "8DDW9M_cM27e",
        "outputId": "b6e2827e-f9c7-4ca1-bfd3-ead6f141a806"
      },
      "outputs": [
        {
          "name": "stdout",
          "output_type": "stream",
          "text": [
            "abanoonyiboobubudamu bonna baasabiddwa [UNK] ewa ssentebe . \n",
            "[UNK] [UNK] [UNK] eggulo . \n",
            "abanoonyiboobubudamu bafunye [UNK] wakati wa bannannyini ttaka . \n",
            "[UNK] [UNK] abanoonyiboobubudamu mu bitundu byaffe . \n",
            "bwe tukolera awamu [UNK] [UNK] [UNK] . \n",
            "disitulikiti eziriraanye ensalo si ntebenkevu . \n",
            "abanoonyiboobubudamu batandise okulima okusobola okwebeezaawo . \n",
            "kimenya mateeka okubeera nemmundu . \n",
            "[UNK] nnyo bazadde be kitiibwa . \n",
            "[UNK] nnyo . \n",
            "\n",
            "CPU times: user 2.36 s, sys: 42.6 ms, total: 2.4 s\n",
            "Wall time: 2.32 s\n"
          ]
        }
      ],
      "source": [
        "%%time\n",
        "for t in inputs:\n",
        "  print(model.translate([t])[0].numpy().decode())\n",
        "\n",
        "print()"
      ]
    },
    {
      "cell_type": "code",
      "execution_count": null,
      "metadata": {
        "colab": {
          "base_uri": "https://localhost:8080/"
        },
        "id": "C9-YuxbfM24h",
        "outputId": "a31d8eab-3dc5-40d3-c2cf-b68a3cb0b700"
      },
      "outputs": [
        {
          "data": {
            "text/plain": [
              "0    Abanoonyiboobubudamu bonna baasabiddwa beewand...\n",
              "1    Baayise olukungaana lw'abanoonyiboobubudamu eg...\n",
              "2    Abanoonyiboobubudamu b'abadde n'obutakkaanya w...\n",
              "3    Twakubirizibwa okwaniriza abanoonyiboobubudamu...\n",
              "4    Bwe tukolera awamu enkulaakulana enyingi efuni...\n",
              "5       Disitulikiti eziriraanye ensalo si ntebenkevu.\n",
              "6    Abanoonyiboobubudamu batandise okulima okusobo...\n",
              "7                  Kimenya mateeka okubeera n'emmundu.\n",
              "8                        Awa nnyo bazadde be kitiibwa.\n",
              "9                         Omusajja anywa nnyo omwenge.\n",
              "Name: Luganda, dtype: object"
            ]
          },
          "execution_count": 61,
          "metadata": {},
          "output_type": "execute_result"
        }
      ],
      "source": [
        "target_raw[:10]"
      ]
    },
    {
      "cell_type": "code",
      "execution_count": null,
      "metadata": {
        "id": "kg6DNWMMM21T"
      },
      "outputs": [],
      "source": [
        "class Export(tf.Module):\n",
        "  def __init__(self, model):\n",
        "    self.model = model\n",
        "\n",
        "  @tf.function(input_signature=[tf.TensorSpec(dtype=tf.string, shape=[None])])\n",
        "  def translate(self, inputs):\n",
        "    return self.model.translate(inputs)"
      ]
    },
    {
      "cell_type": "code",
      "execution_count": null,
      "metadata": {
        "id": "ump_W33XM2xh"
      },
      "outputs": [],
      "source": [
        "export = Export(model)"
      ]
    },
    {
      "cell_type": "code",
      "execution_count": null,
      "metadata": {
        "colab": {
          "base_uri": "https://localhost:8080/"
        },
        "id": "yeCFPMcRNv9f",
        "outputId": "ea579050-49b1-4f23-f569-2a0bd564ff9f"
      },
      "outputs": [
        {
          "name": "stdout",
          "output_type": "stream",
          "text": [
            "CPU times: user 1min 8s, sys: 2.32 s, total: 1min 10s\n",
            "Wall time: 1min 13s\n"
          ]
        }
      ],
      "source": [
        "%%time\n",
        "_ = export.translate(tf.constant(inputs))"
      ]
    },
    {
      "cell_type": "code",
      "execution_count": null,
      "metadata": {
        "colab": {
          "base_uri": "https://localhost:8080/"
        },
        "id": "OU9zl48_Nv5L",
        "outputId": "c7e8e0ee-30db-425c-f724-0495811d5476"
      },
      "outputs": [
        {
          "name": "stdout",
          "output_type": "stream",
          "text": [
            "abanoonyiboobubudamu bonna baasabiddwa [UNK] ewa ssentebe .                                           \n",
            "[UNK] [UNK] [UNK] eggulo .                                             \n",
            "abanoonyiboobubudamu bafunye [UNK] wakati wa bannannyini ttaka .                                          \n",
            "\n",
            "CPU times: user 139 ms, sys: 12.6 ms, total: 152 ms\n",
            "Wall time: 126 ms\n"
          ]
        }
      ],
      "source": [
        "%%time\n",
        "result = export.translate(tf.constant(inputs))\n",
        "\n",
        "print(result[0].numpy().decode())\n",
        "print(result[1].numpy().decode())\n",
        "print(result[2].numpy().decode())\n",
        "print()"
      ]
    },
    {
      "cell_type": "code",
      "execution_count": null,
      "metadata": {
        "colab": {
          "base_uri": "https://localhost:8080/"
        },
        "id": "S2ix71JYNv0-",
        "outputId": "426ad065-7aa5-40ed-cb8d-e49cba5a58cc"
      },
      "outputs": [
        {
          "name": "stderr",
          "output_type": "stream",
          "text": [
            "WARNING:absl:Found untraced functions such as embedding_3_layer_call_fn, embedding_3_layer_call_and_return_conditional_losses, embedding_4_layer_call_fn, embedding_4_layer_call_and_return_conditional_losses, cross_attention_2_layer_call_fn while saving (showing 5 of 32). These functions will not be directly callable after loading.\n"
          ]
        },
        {
          "name": "stdout",
          "output_type": "stream",
          "text": [
            "CPU times: user 1min 33s, sys: 3.9 s, total: 1min 37s\n",
            "Wall time: 1min 36s\n"
          ]
        }
      ],
      "source": [
        "%%time\n",
        "tf.saved_model.save(export, 'translator',\n",
        "                    signatures={'serving_default': export.translate})"
      ]
    },
    {
      "cell_type": "code",
      "execution_count": null,
      "metadata": {
        "colab": {
          "base_uri": "https://localhost:8080/"
        },
        "id": "fdeEgK_TNvx4",
        "outputId": "662202e5-da96-4d1a-d765-24ce06932da4"
      },
      "outputs": [
        {
          "name": "stdout",
          "output_type": "stream",
          "text": [
            "CPU times: user 54.8 s, sys: 3.37 s, total: 58.1 s\n",
            "Wall time: 1min 3s\n"
          ]
        }
      ],
      "source": [
        "%%time\n",
        "reloaded = tf.saved_model.load('./drive/MyDrive/translator')\n",
        "_ = reloaded.translate(tf.constant(inputs)) #warmup"
      ]
    },
    {
      "cell_type": "code",
      "execution_count": null,
      "metadata": {
        "colab": {
          "base_uri": "https://localhost:8080/"
        },
        "id": "vOeX7kFhOcUN",
        "outputId": "bee3b331-bff8-4da0-998a-e5e3933711f2"
      },
      "outputs": [
        {
          "data": {
            "text/plain": [
              "<tf.Tensor: shape=(1,), dtype=string, numpy=\n",
              "array([b'ngenda ku ssomero .                                              '],\n",
              "      dtype=object)>"
            ]
          },
          "execution_count": 69,
          "metadata": {},
          "output_type": "execute_result"
        }
      ],
      "source": [
        "reloaded.translate([\"I am going to school\"])"
      ]
    },
    {
      "cell_type": "code",
      "execution_count": null,
      "metadata": {
        "id": "FwqU67NaOcRQ"
      },
      "outputs": [],
      "source": []
    },
    {
      "cell_type": "code",
      "execution_count": null,
      "metadata": {
        "id": "bGf8AtaKOcOY"
      },
      "outputs": [],
      "source": []
    },
    {
      "cell_type": "code",
      "execution_count": null,
      "metadata": {
        "id": "8oANPWuGOcLT"
      },
      "outputs": [],
      "source": []
    },
    {
      "cell_type": "code",
      "execution_count": null,
      "metadata": {
        "id": "UOiuFFhWOcIN"
      },
      "outputs": [],
      "source": []
    },
    {
      "cell_type": "code",
      "execution_count": null,
      "metadata": {
        "id": "KUupTCtlNvuJ"
      },
      "outputs": [],
      "source": []
    },
    {
      "cell_type": "code",
      "execution_count": null,
      "metadata": {
        "id": "X1FOtdiINvq_"
      },
      "outputs": [],
      "source": []
    }
  ],
  "metadata": {
    "accelerator": "GPU",
    "colab": {
      "provenance": [],
      "mount_file_id": "1N_sRAxdftGIzqzeIMw3NFY9xClLk49f_",
      "authorship_tag": "ABX9TyMsdJlR6XDvIkKBJJ0j2kEx",
      "include_colab_link": true
    },
    "gpuClass": "standard",
    "kernelspec": {
      "display_name": "Python 3",
      "name": "python3"
    },
    "language_info": {
      "name": "python"
    }
  },
  "nbformat": 4,
  "nbformat_minor": 0
}